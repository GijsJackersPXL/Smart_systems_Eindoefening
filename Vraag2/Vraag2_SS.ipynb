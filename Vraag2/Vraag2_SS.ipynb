{
  "nbformat": 4,
  "nbformat_minor": 0,
  "metadata": {
    "colab": {
      "provenance": [],
      "authorship_tag": "ABX9TyPDqQf7haZD6hLYuGD03EqJ"
    },
    "kernelspec": {
      "name": "python3",
      "display_name": "Python 3"
    },
    "language_info": {
      "name": "python"
    }
  },
  "cells": [
    {
      "cell_type": "markdown",
      "source": [
        "# Vraag 2\n",
        "Maak een eigen dataset aan om objecten (minimum 5) te herkennen op een platform dat opgebouwd is op de Jetson Nano en de meegeleverde RPi camera. Je kan zelf een probleemstelling bedenken en deze oplossen met je AI model."
      ],
      "metadata": {
        "id": "OQ32m8znNFPd"
      }
    },
    {
      "cell_type": "code",
      "source": [
        "import cv2\n",
        "import numpy as np\n",
        "import tensorflow as tf\n",
        "from tensorflow import keras\n",
        "from google.colab import drive\n",
        "import matplotlib.pyplot as plt\n",
        "from tensorflow.keras.models import Sequential\n",
        "from tensorflow.keras.preprocessing.image import ImageDataGenerator\n",
        "from tensorflow.keras.layers import Conv2D, MaxPooling2D, Flatten, Dense"
      ],
      "metadata": {
        "id": "k19dZ3fH3DTN"
      },
      "execution_count": 1,
      "outputs": []
    },
    {
      "cell_type": "code",
      "source": [
        "! git clone https://github.com/GijsJackersPXL/Smart_systems_Eindoefening.git"
      ],
      "metadata": {
        "colab": {
          "base_uri": "https://localhost:8080/"
        },
        "id": "ohDFmNd7Ml1Q",
        "outputId": "6ef4db4a-4249-4f02-ef20-0908494a8a18"
      },
      "execution_count": null,
      "outputs": [
        {
          "output_type": "stream",
          "name": "stdout",
          "text": [
            "Cloning into 'Smart_systems_Eindoefening'...\n",
            "remote: Enumerating objects: 297, done.\u001b[K\n",
            "remote: Counting objects: 100% (45/45), done.\u001b[K\n",
            "remote: Compressing objects: 100% (33/33), done.\u001b[K\n",
            "remote: Total 297 (delta 18), reused 30 (delta 10), pack-reused 252\u001b[K\n",
            "Receiving objects: 100% (297/297), 401.47 MiB | 23.58 MiB/s, done.\n",
            "Resolving deltas: 100% (102/102), done.\n",
            "Checking out files: 100% (99/99), done.\n"
          ]
        }
      ]
    },
    {
      "cell_type": "code",
      "source": [
        "# Initialize ImageDataGenerator\n",
        "datagen = ImageDataGenerator(rescale=1./255, validation_split=0.2)\n",
        "\n",
        "# Load data from the directory\n",
        "data_dir = \"/content/Smart_systems_Eindoefening/Vraag2/Foto's_objecten/Train\""
      ],
      "metadata": {
        "id": "98c2VDIvQVgM"
      },
      "execution_count": null,
      "outputs": []
    },
    {
      "cell_type": "markdown",
      "source": [
        "validation_split zorgt ervoor dat 20% van de foto's gebruikt worden voor te valideren en de overige 80% gebruikt wordt om te trainen"
      ],
      "metadata": {
        "id": "3y3F-cg7NYTM"
      }
    },
    {
      "cell_type": "code",
      "source": [
        "# Load data with flow_from_directory\n",
        "data_gen = datagen.flow_from_directory(data_dir,\n",
        "                                      target_size=(224, 224),\n",
        "                                      batch_size=32,\n",
        "                                      class_mode='categorical',\n",
        "                                      shuffle=True)\n",
        "\n",
        "# Number of classes\n",
        "num_classes = len(data_gen.class_indices)\n",
        "\n",
        "# Build model\n",
        "model = Sequential()\n",
        "model.add(Conv2D(32, (3, 3), activation='relu', input_shape=(224, 224, 3)))\n",
        "model.add(MaxPooling2D((2, 2)))\n",
        "model.add(Flatten())\n",
        "model.add(Dense(num_classes, activation='softmax'))\n",
        "\n",
        "# Compile model\n",
        "model.compile(loss='categorical_crossentropy',\n",
        "              optimizer='adam',\n",
        "              metrics=['accuracy'])"
      ],
      "metadata": {
        "colab": {
          "base_uri": "https://localhost:8080/"
        },
        "id": "m5iaClruMj0D",
        "outputId": "17760ee5-31bb-47e2-cf29-dc4e05c13b50"
      },
      "execution_count": null,
      "outputs": [
        {
          "output_type": "stream",
          "name": "stdout",
          "text": [
            "Found 66 images belonging to 6 classes.\n"
          ]
        }
      ]
    },
    {
      "cell_type": "markdown",
      "source": [
        "Bij class_mode gebruiken we categorical omdat deze 6 verschillende objecten moet gaan gebruiken."
      ],
      "metadata": {
        "id": "bXNxKF5NNqHw"
      }
    },
    {
      "cell_type": "code",
      "source": [
        "# Fit model using the generator\n",
        "history = model.fit(data_gen,\n",
        "                    steps_per_epoch=len(data_gen),\n",
        "                    epochs=10,)"
      ],
      "metadata": {
        "colab": {
          "base_uri": "https://localhost:8080/"
        },
        "id": "2zLAlbFkNpgm",
        "outputId": "d14770a9-6728-43b0-cf70-228c5f99d05a"
      },
      "execution_count": null,
      "outputs": [
        {
          "output_type": "stream",
          "name": "stdout",
          "text": [
            "Epoch 1/10\n",
            "3/3 [==============================] - 49s 23s/step - loss: 78.7972 - accuracy: 0.1515\n",
            "Epoch 2/10\n",
            "3/3 [==============================] - 46s 22s/step - loss: 15.2482 - accuracy: 0.1818\n",
            "Epoch 3/10\n",
            "3/3 [==============================] - 46s 22s/step - loss: 25.3149 - accuracy: 0.1818\n",
            "Epoch 4/10\n",
            "3/3 [==============================] - 46s 22s/step - loss: 15.9067 - accuracy: 0.3182\n",
            "Epoch 5/10\n",
            "3/3 [==============================] - 47s 12s/step - loss: 12.8193 - accuracy: 0.3182\n",
            "Epoch 6/10\n",
            "3/3 [==============================] - 48s 12s/step - loss: 7.1454 - accuracy: 0.3030\n",
            "Epoch 7/10\n",
            "3/3 [==============================] - 46s 22s/step - loss: 1.6027 - accuracy: 0.4242\n",
            "Epoch 8/10\n",
            "3/3 [==============================] - 45s 11s/step - loss: 2.1629 - accuracy: 0.3182\n",
            "Epoch 9/10\n",
            "3/3 [==============================] - 45s 11s/step - loss: 0.4588 - accuracy: 0.8333\n",
            "Epoch 10/10\n",
            "3/3 [==============================] - 45s 11s/step - loss: 0.3085 - accuracy: 0.8788\n"
          ]
        }
      ]
    },
    {
      "cell_type": "code",
      "source": [
        "# Save model\n",
        "model.save('model.h5')"
      ],
      "metadata": {
        "id": "zg5rlidvNp2G"
      },
      "execution_count": null,
      "outputs": []
    },
    {
      "cell_type": "code",
      "source": [
        "def preprocess_image(image, grayscale=False, data_augmentation=False):\n",
        "  # Resize the image\n",
        "  image = cv2.resize(image, (224, 224))\n",
        "\n",
        "  # Convert the image to grayscale if needed\n",
        "  if grayscale:\n",
        "      image = cv2.cvtColor(image, cv2.COLOR_BGR2GRAY)\n",
        "      image = np.expand_dims(image, -1)\n",
        "\n",
        "  # Normalize the pixel values\n",
        "  image = image / 255.0\n",
        "\n",
        "  # If data augmentation is enabled, randomly apply some transformations\n",
        "  # if data_augmentation:\n",
        "  #     image = random_transform(image)\n",
        "\n",
        "  # Add an extra dimension to the image so that it has shape (1, height, width, channels)\n",
        "  image = np.expand_dims(image, 0)\n",
        "\n",
        "  return image"
      ],
      "metadata": {
        "id": "reuux5R4VAWN"
      },
      "execution_count": null,
      "outputs": []
    },
    {
      "cell_type": "code",
      "source": [
        "def Wat_is_het(index):\n",
        "  if index == 0:\n",
        "      return \"Het is een DVB\"\n",
        "  elif index == 1:\n",
        "      return \"Het is een muis\"\n",
        "  elif index == 2:\n",
        "      return \"Het is een pen\"\n",
        "  elif index == 3:\n",
        "      return \"Het is een PSoC\"\n",
        "  elif index == 4:\n",
        "      return \"Het is een pynq\"\n",
        "  elif index == 5:\n",
        "      return \"Het is een rekenmachine\"\n",
        "  else:\n",
        "      return \"Error!\""
      ],
      "metadata": {
        "id": "wP0R7NNzUwZO"
      },
      "execution_count": null,
      "outputs": []
    },
    {
      "cell_type": "code",
      "source": [
        "# Load image\n",
        "### Enkele DVB foto's\n",
        "image = cv2.imread(\"/content/Smart_systems_Eindoefening/Vraag2/Foto's_objecten/Train/DVB/IMG20230103150620.jpg\")\n",
        "#image = cv2.imread(\"/content/Smart_systems_Eindoefening/Vraag2/Foto's_objecten/Train/DVB/IMG20230103150628.jpg\")\n",
        "#image = cv2.imread(\"/content/Smart_systems_Eindoefening/Vraag2/Foto's_objecten/Train/DVB/IMG20230103150634.jpg\")\n",
        "\n",
        "### Enkele DVB foto's\n",
        "#image = cv2.imread(\"/content/Smart_systems_Eindoefening/Vraag2/Foto's_objecten/Train/Muis/IMG20230103150823.jpg\")\n",
        "#image = cv2.imread(\"/content/Smart_systems_Eindoefening/Vraag2/Foto's_objecten/Train/Muis/IMG20230103150830.jpg\")\n",
        "#image = cv2.imread(\"/content/Smart_systems_Eindoefening/Vraag2/Foto's_objecten/Train/Muis/IMG20230103150833.jpg\")\n",
        "\n",
        "### Enkele PCoC foto's\n",
        "#image = cv2.imread(\"/content/Smart_systems_Eindoefening/Vraag2/Foto's_objecten/Train/PSoC/IMG20230103150342.jpg\")\n",
        "#image = cv2.imread(\"/content/Smart_systems_Eindoefening/Vraag2/Foto's_objecten/Train/PSoC/IMG20230103150346.jpg\")\n",
        "#image = cv2.imread(\"/content/Smart_systems_Eindoefening/Vraag2/Foto's_objecten/Train/PSoC/IMG20230103150353.jpg\")\n",
        "#image = cv2.imread(\"/content/Smart_systems_Eindoefening/Vraag2/Foto's_objecten/Train/PSoC/IMG20230103150357.jpg\")\n",
        "#image = cv2.imread(\"/content/Smart_systems_Eindoefening/Vraag2/Foto's_objecten/Train/PSoC/IMG20230103150415.jpg\")\n",
        "\n",
        "### Enkele Pen foto's\n",
        "#image = cv2.imread(\"/content/Smart_systems_Eindoefening/Vraag2/Foto's_objecten/Pen/IMG20230103150511.jpg\")\n",
        "#image = cv2.imread(\"/content/Smart_systems_Eindoefening/Vraag2/Foto's_objecten/Pen/IMG20230103150514.jpg\")\n",
        "#image = cv2.imread(\"/content/Smart_systems_Eindoefening/Vraag2/Foto's_objecten/Pen/IMG20230103150551.jpg\")\n",
        "\n",
        "### Enkele Pynq foto's\n",
        "#image = cv2.imread(\"/content/Smart_systems_Eindoefening/Vraag2/Foto's_objecten/Pynq/IMG20230103150710.jpg\")\n",
        "#image = cv2.imread(\"/content/Smart_systems_Eindoefening/Vraag2/Foto's_objecten/Pynq/IMG20230103150724.jpg\")\n",
        "#image = cv2.imread(\"/content/Smart_systems_Eindoefening/Vraag2/Foto's_objecten/Pynq/IMG20230103150732.jpg\")\n",
        "\n",
        "### Enkele Rekenmachine foto's\n",
        "#image = cv2.imread(\"/content/Smart_systems_Eindoefening/Vraag2/Foto's_objecten/Rekenmachine/IMG20230103150237.jpg\")\n",
        "#image = cv2.imread(\"/content/Smart_systems_Eindoefening/Vraag2/Foto's_objecten/Rekenmachine/IMG20230103150245.jpg\")\n",
        "#image = cv2.imread(\"/content/Smart_systems_Eindoefening/Vraag2/Foto's_objecten/Rekenmachine/IMG20230103150251.jpg\")\n",
        "\n",
        "image = cv2.cvtColor(image, cv2.COLOR_BGR2RGB)\n",
        "\n",
        "# Display image\n",
        "plt.imshow(image)\n",
        "plt.axis('off')\n",
        "plt.show()\n"
      ],
      "metadata": {
        "id": "Fvszsm3OVMD_"
      },
      "execution_count": null,
      "outputs": []
    },
    {
      "cell_type": "code",
      "source": [
        "# Preprocess the image\n",
        "image = preprocess_image(image)\n",
        "\n",
        "# Run the model and get the predictions\n",
        "predictions = model.predict(image)\n",
        "\n",
        "# Find the index of the maximum element\n",
        "index = np.argmax(predictions)\n",
        "\n",
        "# Print the index of Wat_is_het\n",
        "print(Wat_is_het(index))"
      ],
      "metadata": {
        "id": "neBs7eLcVQtm"
      },
      "execution_count": null,
      "outputs": []
    }
  ]
}