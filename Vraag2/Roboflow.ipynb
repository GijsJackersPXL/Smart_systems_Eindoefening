{
  "nbformat": 4,
  "nbformat_minor": 0,
  "metadata": {
    "colab": {
      "provenance": [],
      "authorship_tag": "ABX9TyNenAziYRIy3sfSeJ/lA2FT",
      "include_colab_link": true
    },
    "kernelspec": {
      "name": "python3",
      "display_name": "Python 3"
    },
    "language_info": {
      "name": "python"
    }
  },
  "cells": [
    {
      "cell_type": "markdown",
      "metadata": {
        "id": "view-in-github",
        "colab_type": "text"
      },
      "source": [
        "<a href=\"https://colab.research.google.com/github/GijsJackersPXL/Smart_systems_Eindoefening/blob/main/Vraag2/Roboflow.ipynb\" target=\"_parent\"><img src=\"https://colab.research.google.com/assets/colab-badge.svg\" alt=\"Open In Colab\"/></a>"
      ]
    },
    {
      "cell_type": "markdown",
      "source": [
        "https://app.roboflow.com/dataset-ss/dataset-r34hm/1"
      ],
      "metadata": {
        "id": "-Zr0INaVc155"
      }
    },
    {
      "cell_type": "code",
      "execution_count": null,
      "metadata": {
        "id": "yJR-fORfcyg_"
      },
      "outputs": [],
      "source": [
        "!pip install roboflow\n",
        "\n",
        "from roboflow import Roboflow\n",
        "rf = Roboflow(api_key=\"XsmIUGF5By8ZDfOJDbks\")\n",
        "project = rf.workspace(\"dataset-ss\").project(\"dataset-r34hm\")\n",
        "dataset = project.version(1).download(\"tensorflow\")"
      ]
    }
  ]
}