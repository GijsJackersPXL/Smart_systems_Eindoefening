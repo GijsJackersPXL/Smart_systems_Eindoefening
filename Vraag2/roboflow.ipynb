!pip install roboflow

from roboflow import Roboflow
rf = Roboflow(api_key="XsmIUGF5By8ZDfOJDbks")
project = rf.workspace("dataset-ss").project("dataset-r34hm")
dataset = project.version(1).download("tensorflow")
