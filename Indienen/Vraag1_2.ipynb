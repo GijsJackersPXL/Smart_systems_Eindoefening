{
  "nbformat": 4,
  "nbformat_minor": 0,
  "metadata": {
    "colab": {
      "provenance": []
    },
    "kernelspec": {
      "name": "python3",
      "display_name": "Python 3"
    },
    "language_info": {
      "name": "python"
    }
  },
  "cells": [
    {
      "cell_type": "markdown",
      "source": [
        "# Vraag 1 - Deel 2"
      ],
      "metadata": {
        "id": "5Dwpe1tbdRnV"
      }
    },
    {
      "cell_type": "code",
      "execution_count": 1,
      "metadata": {
        "id": "A44YaF3Su_94"
      },
      "outputs": [],
      "source": [
        "import pandas as pd\n",
        "from sklearn.model_selection import train_test_split"
      ]
    },
    {
      "cell_type": "code",
      "source": [
        "!wget https://raw.githubusercontent.com/GijsJackersPXL/Smart_systems_Eindoefening/main/Vraag1/imdb.csv"
      ],
      "metadata": {
        "colab": {
          "base_uri": "https://localhost:8080/"
        },
        "id": "lyfcAJlvKvPm",
        "outputId": "f45dc3b3-a5a2-409b-99c3-0d9112edb434"
      },
      "execution_count": 2,
      "outputs": [
        {
          "output_type": "stream",
          "name": "stdout",
          "text": [
            "--2023-01-06 09:34:06--  https://raw.githubusercontent.com/GijsJackersPXL/Smart_systems_Eindoefening/main/Vraag1/imdb.csv\n",
            "Resolving raw.githubusercontent.com (raw.githubusercontent.com)... 185.199.111.133, 185.199.108.133, 185.199.109.133, ...\n",
            "Connecting to raw.githubusercontent.com (raw.githubusercontent.com)|185.199.111.133|:443... connected.\n",
            "HTTP request sent, awaiting response... 200 OK\n",
            "Length: 69204 (68K) [text/plain]\n",
            "Saving to: ‘imdb.csv’\n",
            "\n",
            "imdb.csv            100%[===================>]  67.58K  --.-KB/s    in 0.01s   \n",
            "\n",
            "2023-01-06 09:34:06 (4.76 MB/s) - ‘imdb.csv’ saved [69204/69204]\n",
            "\n"
          ]
        }
      ]
    },
    {
      "cell_type": "code",
      "source": [
        "data = pd.read_csv(\"/content/imdb.csv\", sep=',')\n",
        "df = pd.DataFrame(data)"
      ],
      "metadata": {
        "id": "Rm8N0zMbvm0v"
      },
      "execution_count": 3,
      "outputs": []
    },
    {
      "cell_type": "code",
      "source": [
        "df.head()"
      ],
      "metadata": {
        "colab": {
          "base_uri": "https://localhost:8080/",
          "height": 206
        },
        "id": "ubGdgWXGvxf4",
        "outputId": "0853e1bd-ded6-467f-e1cb-58da215d9457"
      },
      "execution_count": 4,
      "outputs": [
        {
          "output_type": "execute_result",
          "data": {
            "text/plain": [
              "  Rank                                     Movie_name  Year Certificate  \\\n",
              "0    1                       The Shawshank Redemption  1994           R   \n",
              "1    2                                  The Godfather  1972           R   \n",
              "2    3                                The Dark Knight  2008       PG-13   \n",
              "3    4  The Lord of the Rings: The Return of the King  2003       PG-13   \n",
              "4    5                               Schindler's List  1993           R   \n",
              "\n",
              "   Runtime_in_min                      Genre  Metascore Gross_in_$_M  \\\n",
              "0             142                      Drama       81.0        28.34   \n",
              "1             175               Crime, Drama      100.0       134.97   \n",
              "2             152       Action, Crime, Drama       84.0       534.86   \n",
              "3             201   Action, Adventure, Drama       94.0       377.85   \n",
              "4             195  Biography, Drama, History       94.0        96.90   \n",
              "\n",
              "   Rating_from_10  \n",
              "0             9.3  \n",
              "1             9.2  \n",
              "2             9.0  \n",
              "3             9.0  \n",
              "4             9.0  "
            ],
            "text/html": [
              "\n",
              "  <div id=\"df-87dbcdbb-8fd5-4848-a33f-6735dbcca1f9\">\n",
              "    <div class=\"colab-df-container\">\n",
              "      <div>\n",
              "<style scoped>\n",
              "    .dataframe tbody tr th:only-of-type {\n",
              "        vertical-align: middle;\n",
              "    }\n",
              "\n",
              "    .dataframe tbody tr th {\n",
              "        vertical-align: top;\n",
              "    }\n",
              "\n",
              "    .dataframe thead th {\n",
              "        text-align: right;\n",
              "    }\n",
              "</style>\n",
              "<table border=\"1\" class=\"dataframe\">\n",
              "  <thead>\n",
              "    <tr style=\"text-align: right;\">\n",
              "      <th></th>\n",
              "      <th>Rank</th>\n",
              "      <th>Movie_name</th>\n",
              "      <th>Year</th>\n",
              "      <th>Certificate</th>\n",
              "      <th>Runtime_in_min</th>\n",
              "      <th>Genre</th>\n",
              "      <th>Metascore</th>\n",
              "      <th>Gross_in_$_M</th>\n",
              "      <th>Rating_from_10</th>\n",
              "    </tr>\n",
              "  </thead>\n",
              "  <tbody>\n",
              "    <tr>\n",
              "      <th>0</th>\n",
              "      <td>1</td>\n",
              "      <td>The Shawshank Redemption</td>\n",
              "      <td>1994</td>\n",
              "      <td>R</td>\n",
              "      <td>142</td>\n",
              "      <td>Drama</td>\n",
              "      <td>81.0</td>\n",
              "      <td>28.34</td>\n",
              "      <td>9.3</td>\n",
              "    </tr>\n",
              "    <tr>\n",
              "      <th>1</th>\n",
              "      <td>2</td>\n",
              "      <td>The Godfather</td>\n",
              "      <td>1972</td>\n",
              "      <td>R</td>\n",
              "      <td>175</td>\n",
              "      <td>Crime, Drama</td>\n",
              "      <td>100.0</td>\n",
              "      <td>134.97</td>\n",
              "      <td>9.2</td>\n",
              "    </tr>\n",
              "    <tr>\n",
              "      <th>2</th>\n",
              "      <td>3</td>\n",
              "      <td>The Dark Knight</td>\n",
              "      <td>2008</td>\n",
              "      <td>PG-13</td>\n",
              "      <td>152</td>\n",
              "      <td>Action, Crime, Drama</td>\n",
              "      <td>84.0</td>\n",
              "      <td>534.86</td>\n",
              "      <td>9.0</td>\n",
              "    </tr>\n",
              "    <tr>\n",
              "      <th>3</th>\n",
              "      <td>4</td>\n",
              "      <td>The Lord of the Rings: The Return of the King</td>\n",
              "      <td>2003</td>\n",
              "      <td>PG-13</td>\n",
              "      <td>201</td>\n",
              "      <td>Action, Adventure, Drama</td>\n",
              "      <td>94.0</td>\n",
              "      <td>377.85</td>\n",
              "      <td>9.0</td>\n",
              "    </tr>\n",
              "    <tr>\n",
              "      <th>4</th>\n",
              "      <td>5</td>\n",
              "      <td>Schindler's List</td>\n",
              "      <td>1993</td>\n",
              "      <td>R</td>\n",
              "      <td>195</td>\n",
              "      <td>Biography, Drama, History</td>\n",
              "      <td>94.0</td>\n",
              "      <td>96.90</td>\n",
              "      <td>9.0</td>\n",
              "    </tr>\n",
              "  </tbody>\n",
              "</table>\n",
              "</div>\n",
              "      <button class=\"colab-df-convert\" onclick=\"convertToInteractive('df-87dbcdbb-8fd5-4848-a33f-6735dbcca1f9')\"\n",
              "              title=\"Convert this dataframe to an interactive table.\"\n",
              "              style=\"display:none;\">\n",
              "        \n",
              "  <svg xmlns=\"http://www.w3.org/2000/svg\" height=\"24px\"viewBox=\"0 0 24 24\"\n",
              "       width=\"24px\">\n",
              "    <path d=\"M0 0h24v24H0V0z\" fill=\"none\"/>\n",
              "    <path d=\"M18.56 5.44l.94 2.06.94-2.06 2.06-.94-2.06-.94-.94-2.06-.94 2.06-2.06.94zm-11 1L8.5 8.5l.94-2.06 2.06-.94-2.06-.94L8.5 2.5l-.94 2.06-2.06.94zm10 10l.94 2.06.94-2.06 2.06-.94-2.06-.94-.94-2.06-.94 2.06-2.06.94z\"/><path d=\"M17.41 7.96l-1.37-1.37c-.4-.4-.92-.59-1.43-.59-.52 0-1.04.2-1.43.59L10.3 9.45l-7.72 7.72c-.78.78-.78 2.05 0 2.83L4 21.41c.39.39.9.59 1.41.59.51 0 1.02-.2 1.41-.59l7.78-7.78 2.81-2.81c.8-.78.8-2.07 0-2.86zM5.41 20L4 18.59l7.72-7.72 1.47 1.35L5.41 20z\"/>\n",
              "  </svg>\n",
              "      </button>\n",
              "      \n",
              "  <style>\n",
              "    .colab-df-container {\n",
              "      display:flex;\n",
              "      flex-wrap:wrap;\n",
              "      gap: 12px;\n",
              "    }\n",
              "\n",
              "    .colab-df-convert {\n",
              "      background-color: #E8F0FE;\n",
              "      border: none;\n",
              "      border-radius: 50%;\n",
              "      cursor: pointer;\n",
              "      display: none;\n",
              "      fill: #1967D2;\n",
              "      height: 32px;\n",
              "      padding: 0 0 0 0;\n",
              "      width: 32px;\n",
              "    }\n",
              "\n",
              "    .colab-df-convert:hover {\n",
              "      background-color: #E2EBFA;\n",
              "      box-shadow: 0px 1px 2px rgba(60, 64, 67, 0.3), 0px 1px 3px 1px rgba(60, 64, 67, 0.15);\n",
              "      fill: #174EA6;\n",
              "    }\n",
              "\n",
              "    [theme=dark] .colab-df-convert {\n",
              "      background-color: #3B4455;\n",
              "      fill: #D2E3FC;\n",
              "    }\n",
              "\n",
              "    [theme=dark] .colab-df-convert:hover {\n",
              "      background-color: #434B5C;\n",
              "      box-shadow: 0px 1px 3px 1px rgba(0, 0, 0, 0.15);\n",
              "      filter: drop-shadow(0px 1px 2px rgba(0, 0, 0, 0.3));\n",
              "      fill: #FFFFFF;\n",
              "    }\n",
              "  </style>\n",
              "\n",
              "      <script>\n",
              "        const buttonEl =\n",
              "          document.querySelector('#df-87dbcdbb-8fd5-4848-a33f-6735dbcca1f9 button.colab-df-convert');\n",
              "        buttonEl.style.display =\n",
              "          google.colab.kernel.accessAllowed ? 'block' : 'none';\n",
              "\n",
              "        async function convertToInteractive(key) {\n",
              "          const element = document.querySelector('#df-87dbcdbb-8fd5-4848-a33f-6735dbcca1f9');\n",
              "          const dataTable =\n",
              "            await google.colab.kernel.invokeFunction('convertToInteractive',\n",
              "                                                     [key], {});\n",
              "          if (!dataTable) return;\n",
              "\n",
              "          const docLinkHtml = 'Like what you see? Visit the ' +\n",
              "            '<a target=\"_blank\" href=https://colab.research.google.com/notebooks/data_table.ipynb>data table notebook</a>'\n",
              "            + ' to learn more about interactive tables.';\n",
              "          element.innerHTML = '';\n",
              "          dataTable['output_type'] = 'display_data';\n",
              "          await google.colab.output.renderOutput(dataTable, element);\n",
              "          const docLink = document.createElement('div');\n",
              "          docLink.innerHTML = docLinkHtml;\n",
              "          element.appendChild(docLink);\n",
              "        }\n",
              "      </script>\n",
              "    </div>\n",
              "  </div>\n",
              "  "
            ]
          },
          "metadata": {},
          "execution_count": 4
        }
      ]
    },
    {
      "cell_type": "code",
      "source": [
        "df.isnull().sum()"
      ],
      "metadata": {
        "colab": {
          "base_uri": "https://localhost:8080/"
        },
        "id": "dc-tSp8M3ZAg",
        "outputId": "ca4e9218-1f8d-4f5c-a391-165c31936533"
      },
      "execution_count": 5,
      "outputs": [
        {
          "output_type": "execute_result",
          "data": {
            "text/plain": [
              "Rank                0\n",
              "Movie_name          0\n",
              "Year                0\n",
              "Certificate         7\n",
              "Runtime_in_min      0\n",
              "Genre               0\n",
              "Metascore         160\n",
              "Gross_in_$_M      159\n",
              "Rating_from_10      0\n",
              "dtype: int64"
            ]
          },
          "metadata": {},
          "execution_count": 5
        }
      ]
    },
    {
      "cell_type": "code",
      "source": [
        "df.dropna(inplace=True)"
      ],
      "metadata": {
        "id": "NEWbn1pPX4qH"
      },
      "execution_count": 6,
      "outputs": []
    },
    {
      "cell_type": "code",
      "source": [
        "df.isnull().sum()"
      ],
      "metadata": {
        "colab": {
          "base_uri": "https://localhost:8080/"
        },
        "id": "wMj68A6aX5pi",
        "outputId": "b3556c28-1fc5-43d1-fbb5-667fd473ed5d"
      },
      "execution_count": 7,
      "outputs": [
        {
          "output_type": "execute_result",
          "data": {
            "text/plain": [
              "Rank              0\n",
              "Movie_name        0\n",
              "Year              0\n",
              "Certificate       0\n",
              "Runtime_in_min    0\n",
              "Genre             0\n",
              "Metascore         0\n",
              "Gross_in_$_M      0\n",
              "Rating_from_10    0\n",
              "dtype: int64"
            ]
          },
          "metadata": {},
          "execution_count": 7
        }
      ]
    },
    {
      "cell_type": "code",
      "source": [
        "df.shape"
      ],
      "metadata": {
        "colab": {
          "base_uri": "https://localhost:8080/"
        },
        "id": "BhYkx98qMCSK",
        "outputId": "26b4ef53-ccc0-4ef6-94e5-234c76651803"
      },
      "execution_count": 8,
      "outputs": [
        {
          "output_type": "execute_result",
          "data": {
            "text/plain": [
              "(755, 9)"
            ]
          },
          "metadata": {},
          "execution_count": 8
        }
      ]
    },
    {
      "cell_type": "code",
      "source": [
        "df = df.drop([\"Rank\", \"Movie_name\", \"Genre\", \"Certificate\"], axis=1)"
      ],
      "metadata": {
        "id": "tmH9G2IOvz18"
      },
      "execution_count": 9,
      "outputs": []
    },
    {
      "cell_type": "code",
      "source": [
        "df[\"Year\"] = pd.to_numeric(df[\"Year\"], errors=\"coerce\")"
      ],
      "metadata": {
        "id": "irI6KbcOaKRk"
      },
      "execution_count": 10,
      "outputs": []
    },
    {
      "cell_type": "code",
      "source": [
        "df[\"Gross_in_$_M\"] = pd.to_numeric(df[\"Gross_in_$_M\"], errors=\"coerce\")"
      ],
      "metadata": {
        "id": "_CGiIxXmsGL0"
      },
      "execution_count": 11,
      "outputs": []
    },
    {
      "cell_type": "code",
      "source": [
        "df.dropna(inplace=True)"
      ],
      "metadata": {
        "id": "Skvcf-JKbXPS"
      },
      "execution_count": 12,
      "outputs": []
    },
    {
      "cell_type": "code",
      "source": [
        "from sklearn import preprocessing\n",
        "norm_data = preprocessing.normalize(df, axis=0)\n",
        "norm_df = pd.DataFrame(norm_data,columns=[df.columns])\n",
        "print('Normalized Data \\n',norm_df.head(10))"
      ],
      "metadata": {
        "colab": {
          "base_uri": "https://localhost:8080/"
        },
        "id": "yPII2i1nfgjY",
        "outputId": "d03fba5c-108f-432f-90f7-8b10fb481e91"
      },
      "execution_count": 13,
      "outputs": [
        {
          "output_type": "stream",
          "name": "stdout",
          "text": [
            "Normalized Data \n",
            "        Year Runtime_in_min Metascore Gross_in_$_M Rating_from_10\n",
            "0  0.037616       0.042105  0.038523     0.007664       0.043944\n",
            "1  0.037201       0.051890  0.047559     0.036498       0.043472\n",
            "2  0.037880       0.045070  0.039949     0.144633       0.042527\n",
            "3  0.037785       0.059600  0.044705     0.102176       0.042527\n",
            "4  0.037597       0.057821  0.044705     0.026203       0.042527\n",
            "5  0.037238       0.059896  0.042803     0.015495       0.042527\n",
            "6  0.036918       0.028465  0.045656     0.001179       0.042527\n",
            "7  0.037616       0.045663  0.044705     0.029186       0.042054\n",
            "8  0.037917       0.043884  0.035193     0.079117       0.041582\n",
            "9  0.037767       0.053076  0.041376     0.092630       0.041582\n"
          ]
        }
      ]
    },
    {
      "cell_type": "code",
      "source": [
        "X = df.drop('Rating_from_10', axis=1)\n",
        "y = df['Rating_from_10']"
      ],
      "metadata": {
        "id": "muKOfpc5fmXp"
      },
      "execution_count": 14,
      "outputs": []
    },
    {
      "cell_type": "code",
      "source": [
        "from sklearn.model_selection import train_test_split"
      ],
      "metadata": {
        "id": "zSqQe8u6frur"
      },
      "execution_count": 15,
      "outputs": []
    },
    {
      "cell_type": "code",
      "source": [
        "X_train, X_test, y_train, y_test = train_test_split(X, y, test_size=0.2)"
      ],
      "metadata": {
        "id": "Y-n7_3_4fs7i"
      },
      "execution_count": 16,
      "outputs": []
    },
    {
      "cell_type": "code",
      "source": [
        "from tensorflow.keras.models import Sequential\n",
        "from tensorflow.keras.layers import Dense"
      ],
      "metadata": {
        "id": "z0dJpJoKfuP0"
      },
      "execution_count": 17,
      "outputs": []
    },
    {
      "cell_type": "code",
      "source": [
        "from tensorflow import keras\n",
        "import tensorflow as tf"
      ],
      "metadata": {
        "id": "KDDpCwAIfuwr"
      },
      "execution_count": 18,
      "outputs": []
    },
    {
      "cell_type": "code",
      "source": [
        "model = keras.Sequential()\n",
        "model.add(keras.layers.Dense(64, input_shape=(X_train.shape[1],), activation='relu'))\n",
        "model.add(keras.layers.Dense(32, activation='relu'))\n",
        "model.add(keras.layers.Dense(4, activation='sigmoid'))"
      ],
      "metadata": {
        "id": "BCA0sYpAfuzI"
      },
      "execution_count": 19,
      "outputs": []
    },
    {
      "cell_type": "code",
      "source": [
        "model.compile(optimizer=keras.optimizers.RMSprop(learning_rate=0.002),\n",
        "              loss=keras.losses.MeanSquaredError(),\n",
        "              metrics=[keras.metrics.MeanAbsoluteError(), keras.metrics.MeanSquaredError()])"
      ],
      "metadata": {
        "id": "sfhGC1bOfu1o"
      },
      "execution_count": 20,
      "outputs": []
    },
    {
      "cell_type": "code",
      "source": [
        "# fit the keras model on the dataset\n",
        "model.fit(X_train, y_train, epochs=10, batch_size=5)"
      ],
      "metadata": {
        "colab": {
          "base_uri": "https://localhost:8080/"
        },
        "id": "aX2pW8mpfu4W",
        "outputId": "7abb2cd5-d5d7-457f-b6ab-18d549824f62"
      },
      "execution_count": 21,
      "outputs": [
        {
          "output_type": "stream",
          "name": "stdout",
          "text": [
            "Epoch 1/10\n",
            "113/113 [==============================] - 2s 4ms/step - loss: 59.6329 - mean_absolute_error: 7.7045 - mean_squared_error: 59.6329\n",
            "Epoch 2/10\n",
            "113/113 [==============================] - 0s 3ms/step - loss: 59.6329 - mean_absolute_error: 7.7045 - mean_squared_error: 59.6329\n",
            "Epoch 3/10\n",
            "113/113 [==============================] - 0s 3ms/step - loss: 59.6329 - mean_absolute_error: 7.7045 - mean_squared_error: 59.6329\n",
            "Epoch 4/10\n",
            "113/113 [==============================] - 0s 4ms/step - loss: 59.6329 - mean_absolute_error: 7.7045 - mean_squared_error: 59.6329\n",
            "Epoch 5/10\n",
            "113/113 [==============================] - 0s 3ms/step - loss: 59.6329 - mean_absolute_error: 7.7045 - mean_squared_error: 59.6329\n",
            "Epoch 6/10\n",
            "113/113 [==============================] - 0s 4ms/step - loss: 59.6329 - mean_absolute_error: 7.7045 - mean_squared_error: 59.6329\n",
            "Epoch 7/10\n",
            "113/113 [==============================] - 0s 3ms/step - loss: 59.6329 - mean_absolute_error: 7.7045 - mean_squared_error: 59.6329\n",
            "Epoch 8/10\n",
            "113/113 [==============================] - 0s 3ms/step - loss: 59.6329 - mean_absolute_error: 7.7045 - mean_squared_error: 59.6329\n",
            "Epoch 9/10\n",
            "113/113 [==============================] - 0s 4ms/step - loss: 59.6329 - mean_absolute_error: 7.7045 - mean_squared_error: 59.6329\n",
            "Epoch 10/10\n",
            "113/113 [==============================] - 1s 5ms/step - loss: 59.6329 - mean_absolute_error: 7.7045 - mean_squared_error: 59.6329\n"
          ]
        },
        {
          "output_type": "execute_result",
          "data": {
            "text/plain": [
              "<keras.callbacks.History at 0x7f73678e3dc0>"
            ]
          },
          "metadata": {},
          "execution_count": 21
        }
      ]
    },
    {
      "cell_type": "code",
      "source": [
        "# evaluate the keras model\n",
        "score = model.evaluate(X_train, y_train, batch_size=32)\n",
        "print('Test loss: ', score[0])\n",
        "print('Test accuracy: ', score[1])"
      ],
      "metadata": {
        "colab": {
          "base_uri": "https://localhost:8080/"
        },
        "id": "OpXOiiMJfu7C",
        "outputId": "542ea3bd-58cb-4fb5-df80-bec21087e89e"
      },
      "execution_count": 22,
      "outputs": [
        {
          "output_type": "stream",
          "name": "stdout",
          "text": [
            "18/18 [==============================] - 0s 4ms/step - loss: 59.6329 - mean_absolute_error: 7.7045 - mean_squared_error: 59.6329\n",
            "Test loss:  59.63294219970703\n",
            "Test accuracy:  7.704513072967529\n"
          ]
        }
      ]
    },
    {
      "cell_type": "code",
      "source": [],
      "metadata": {
        "id": "k5RsQA8zf9gX"
      },
      "execution_count": 22,
      "outputs": []
    }
  ]
}