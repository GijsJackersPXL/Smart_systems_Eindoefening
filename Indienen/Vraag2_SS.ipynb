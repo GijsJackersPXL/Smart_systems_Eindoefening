{
  "nbformat": 4,
  "nbformat_minor": 0,
  "metadata": {
    "colab": {
      "provenance": [],
      "authorship_tag": "ABX9TyOPtlXN5l4L9m5qLC1NoofU",
      "include_colab_link": true
    },
    "kernelspec": {
      "name": "python3",
      "display_name": "Python 3"
    },
    "language_info": {
      "name": "python"
    }
  },
  "cells": [
    {
      "cell_type": "markdown",
      "metadata": {
        "id": "view-in-github",
        "colab_type": "text"
      },
      "source": [
        "<a href=\"https://colab.research.google.com/github/GijsJackersPXL/Smart_systems_Eindoefening/blob/main/Indienen/Vraag2_SS.ipynb\" target=\"_parent\"><img src=\"https://colab.research.google.com/assets/colab-badge.svg\" alt=\"Open In Colab\"/></a>"
      ]
    },
    {
      "cell_type": "markdown",
      "source": [
        "# Vraag 2\n",
        "Maak een eigen dataset aan om objecten (minimum 5) te herkennen op een platform dat opgebouwd is op de Jetson Nano en de meegeleverde RPi camera. Je kan zelf een probleemstelling bedenken en deze oplossen met je AI model."
      ],
      "metadata": {
        "id": "OQ32m8znNFPd"
      }
    },
    {
      "cell_type": "code",
      "source": [
        "import numpy as np\n",
        "from google.colab import drive\n",
        "import tensorflow as tf\n",
        "import matplotlib.pyplot as plt\n",
        "from tensorflow import keras\n",
        "from tensorflow.keras.models import Sequential\n",
        "from tensorflow.keras.preprocessing.image import ImageDataGenerator\n",
        "from tensorflow.keras.layers import Conv2D, MaxPooling2D, Flatten, Dense"
      ],
      "metadata": {
        "id": "k19dZ3fH3DTN"
      },
      "execution_count": 3,
      "outputs": []
    },
    {
      "cell_type": "code",
      "source": [
        "! git clone https://github.com/GijsJackersPXL/Smart_systems_Eindoefening.git"
      ],
      "metadata": {
        "colab": {
          "base_uri": "https://localhost:8080/"
        },
        "id": "ohDFmNd7Ml1Q",
        "outputId": "6ef4db4a-4249-4f02-ef20-0908494a8a18"
      },
      "execution_count": 4,
      "outputs": [
        {
          "output_type": "stream",
          "name": "stdout",
          "text": [
            "Cloning into 'Smart_systems_Eindoefening'...\n",
            "remote: Enumerating objects: 297, done.\u001b[K\n",
            "remote: Counting objects: 100% (45/45), done.\u001b[K\n",
            "remote: Compressing objects: 100% (33/33), done.\u001b[K\n",
            "remote: Total 297 (delta 18), reused 30 (delta 10), pack-reused 252\u001b[K\n",
            "Receiving objects: 100% (297/297), 401.47 MiB | 23.58 MiB/s, done.\n",
            "Resolving deltas: 100% (102/102), done.\n",
            "Checking out files: 100% (99/99), done.\n"
          ]
        }
      ]
    },
    {
      "cell_type": "code",
      "source": [
        "# Initialize ImageDataGenerator\n",
        "datagen = ImageDataGenerator(rescale=1./255, validation_split=0.2)\n",
        "\n",
        "# Load data from the directory\n",
        "data_dir = \"/content/Smart_systems_Eindoefening/Vraag2/Foto's_objecten/Train\""
      ],
      "metadata": {
        "id": "98c2VDIvQVgM"
      },
      "execution_count": 5,
      "outputs": []
    },
    {
      "cell_type": "markdown",
      "source": [
        "validation_split zorgt ervoor dat 20% van de foto's gebruikt worden voor te valideren en de overige 80% gebruikt wordt om te trainen"
      ],
      "metadata": {
        "id": "3y3F-cg7NYTM"
      }
    },
    {
      "cell_type": "code",
      "source": [
        "# Load data with flow_from_directory\n",
        "data_gen = datagen.flow_from_directory(data_dir,\n",
        "                                      target_size=(224, 224),\n",
        "                                      batch_size=32,\n",
        "                                      class_mode='categorical',\n",
        "                                      shuffle=True)\n",
        "\n",
        "# Number of classes\n",
        "num_classes = len(data_gen.class_indices)\n",
        "\n",
        "# Build model\n",
        "model = Sequential()\n",
        "model.add(Conv2D(32, (3, 3), activation='relu', input_shape=(224, 224, 3)))\n",
        "model.add(MaxPooling2D((2, 2)))\n",
        "model.add(Flatten())\n",
        "model.add(Dense(num_classes, activation='softmax'))\n",
        "\n",
        "# Compile model\n",
        "model.compile(loss='categorical_crossentropy',\n",
        "              optimizer='adam',\n",
        "              metrics=['accuracy'])"
      ],
      "metadata": {
        "colab": {
          "base_uri": "https://localhost:8080/"
        },
        "id": "m5iaClruMj0D",
        "outputId": "17760ee5-31bb-47e2-cf29-dc4e05c13b50"
      },
      "execution_count": 6,
      "outputs": [
        {
          "output_type": "stream",
          "name": "stdout",
          "text": [
            "Found 66 images belonging to 6 classes.\n"
          ]
        }
      ]
    },
    {
      "cell_type": "markdown",
      "source": [
        "Bij class_mode gebruiken we categorical omdat deze 6 verschillende objecten moet gaan gebruiken."
      ],
      "metadata": {
        "id": "bXNxKF5NNqHw"
      }
    },
    {
      "cell_type": "code",
      "source": [
        "# Fit model using the generator\n",
        "history = model.fit(data_gen,\n",
        "                    steps_per_epoch=len(data_gen),\n",
        "                    epochs=10,)"
      ],
      "metadata": {
        "colab": {
          "base_uri": "https://localhost:8080/"
        },
        "id": "2zLAlbFkNpgm",
        "outputId": "d14770a9-6728-43b0-cf70-228c5f99d05a"
      },
      "execution_count": 7,
      "outputs": [
        {
          "output_type": "stream",
          "name": "stdout",
          "text": [
            "Epoch 1/10\n",
            "3/3 [==============================] - 49s 23s/step - loss: 78.7972 - accuracy: 0.1515\n",
            "Epoch 2/10\n",
            "3/3 [==============================] - 46s 22s/step - loss: 15.2482 - accuracy: 0.1818\n",
            "Epoch 3/10\n",
            "3/3 [==============================] - 46s 22s/step - loss: 25.3149 - accuracy: 0.1818\n",
            "Epoch 4/10\n",
            "3/3 [==============================] - 46s 22s/step - loss: 15.9067 - accuracy: 0.3182\n",
            "Epoch 5/10\n",
            "3/3 [==============================] - 47s 12s/step - loss: 12.8193 - accuracy: 0.3182\n",
            "Epoch 6/10\n",
            "3/3 [==============================] - 48s 12s/step - loss: 7.1454 - accuracy: 0.3030\n",
            "Epoch 7/10\n",
            "3/3 [==============================] - 46s 22s/step - loss: 1.6027 - accuracy: 0.4242\n",
            "Epoch 8/10\n",
            "3/3 [==============================] - 45s 11s/step - loss: 2.1629 - accuracy: 0.3182\n",
            "Epoch 9/10\n",
            "3/3 [==============================] - 45s 11s/step - loss: 0.4588 - accuracy: 0.8333\n",
            "Epoch 10/10\n",
            "3/3 [==============================] - 45s 11s/step - loss: 0.3085 - accuracy: 0.8788\n"
          ]
        }
      ]
    },
    {
      "cell_type": "code",
      "source": [
        "# Save model\n",
        "model.save('model.h5')"
      ],
      "metadata": {
        "id": "zg5rlidvNp2G"
      },
      "execution_count": 8,
      "outputs": []
    }
  ]
}