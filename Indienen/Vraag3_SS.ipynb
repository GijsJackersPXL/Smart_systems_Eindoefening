{
  "nbformat": 4,
  "nbformat_minor": 0,
  "metadata": {
    "colab": {
      "provenance": []
    },
    "kernelspec": {
      "name": "python3",
      "display_name": "Python 3"
    },
    "language_info": {
      "name": "python"
    }
  },
  "cells": [
    {
      "cell_type": "markdown",
      "metadata": {
        "id": "view-in-github"
      },
      "source": [
        "<a href=\"https://colab.research.google.com/github/GijsJackersPXL/Smart_systems_Eindoefening/blob/main/Vraag3/Vraag3_SS.ipynb\" target=\"_parent\"><img src=\"https://colab.research.google.com/assets/colab-badge.svg\" alt=\"Open In Colab\"/></a>"
      ]
    },
    {
      "cell_type": "markdown",
      "source": [
        "Maak een eigen dataset aan of gebruik een online dataset van een specifiek object. Bouw een AI model dat Anomalies kan detecteren (visueel; dus op foto's). Dit kan bijvoorbeeld gebruikt worden om defecteren in een object vast te stellen. Zorg ervoor dat dit model live gebruikt kan worden (gebruik je webcam,...)"
      ],
      "metadata": {
        "id": "5qGgTFT9BUz3"
      }
    },
    {
      "cell_type": "code",
      "source": [
        "import numpy as np\n",
        "import cv2\n",
        "from google.colab import drive\n",
        "import tensorflow as tf\n",
        "import matplotlib.pyplot as plt\n",
        "from tensorflow import keras\n",
        "from tensorflow.keras.models import Sequential\n",
        "from tensorflow.keras.preprocessing.image import ImageDataGenerator\n",
        "from tensorflow.keras.layers import Conv2D, MaxPooling2D, Flatten, Dense"
      ],
      "metadata": {
        "id": "C8hRfRyd2e4L"
      },
      "execution_count": 2,
      "outputs": []
    },
    {
      "cell_type": "code",
      "source": [
        "from sklearn import svm\n",
        "from sklearn.datasets import load_files\n",
        "from sklearn.preprocessing import StandardScaler"
      ],
      "metadata": {
        "id": "IY_lOai7_8ZR"
      },
      "execution_count": 3,
      "outputs": []
    },
    {
      "cell_type": "code",
      "source": [
        "! git clone https://github.com/GijsJackersPXL/Smart_systems_Eindoefening.git"
      ],
      "metadata": {
        "colab": {
          "base_uri": "https://localhost:8080/"
        },
        "id": "lZi3vYdolepA",
        "outputId": "1c461035-5c52-40da-ddca-410ded6983c0"
      },
      "execution_count": 4,
      "outputs": [
        {
          "output_type": "stream",
          "name": "stdout",
          "text": [
            "Cloning into 'Smart_systems_Eindoefening'...\n",
            "remote: Enumerating objects: 269, done.\u001b[K\n",
            "remote: Counting objects: 100% (17/17), done.\u001b[K\n",
            "remote: Compressing objects: 100% (9/9), done.\u001b[K\n",
            "remote: Total 269 (delta 7), reused 16 (delta 6), pack-reused 252\u001b[K\n",
            "Receiving objects: 100% (269/269), 401.37 MiB | 20.73 MiB/s, done.\n",
            "Resolving deltas: 100% (91/91), done.\n",
            "Checking out files: 100% (175/175), done.\n"
          ]
        }
      ]
    },
    {
      "cell_type": "code",
      "source": [
        "# Initialize the ImageDataGenerator\n",
        "datagen = ImageDataGenerator(rescale=1./255)\n",
        "\n",
        "# Load the data from the directory on Google Drive\n",
        "data_dir = \"/content/Smart_systems_Eindoefening/Vraag3/Foto's_objecten/Train\""
      ],
      "metadata": {
        "id": "PGQbmABh2mMM"
      },
      "execution_count": 5,
      "outputs": []
    },
    {
      "cell_type": "code",
      "source": [
        "# Use the flow_from_directory method to load the data\n",
        "data_gen = datagen.flow_from_directory(data_dir,\n",
        "                                      target_size=(224, 224),\n",
        "                                      batch_size=10,\n",
        "                                      class_mode='binary',\n",
        "                                      shuffle=False)\n",
        "\n",
        "# Get the number of classes\n",
        "num_classes = len(data_gen.class_indices)\n",
        "\n",
        "# Build the model\n",
        "model = tf.keras.Sequential([\n",
        "    tf.keras.layers.Conv2D(32, (3, 3), activation='relu', input_shape=(224, 224, 3)),\n",
        "    tf.keras.layers.MaxPooling2D((2, 2)),\n",
        "    tf.keras.layers.Flatten(),\n",
        "    tf.keras.layers.Dense(num_classes, activation='softmax')\n",
        "])\n",
        "\n",
        "# Compile the model\n",
        "model.compile(loss='binary_crossentropy',\n",
        "              optimizer='adam',\n",
        "              metrics=['accuracy'])\n",
        "\n",
        "# Fit the model on the training data\n",
        "model.fit(data_gen)"
      ],
      "metadata": {
        "colab": {
          "base_uri": "https://localhost:8080/"
        },
        "id": "r43zJznR2o7f",
        "outputId": "0fa44434-29f3-48a9-a83b-72cccc918975"
      },
      "execution_count": 6,
      "outputs": [
        {
          "output_type": "stream",
          "name": "stdout",
          "text": [
            "Found 14 images belonging to 1 classes.\n",
            "2/2 [==============================] - 11s 2s/step - loss: 0.5655 - accuracy: 0.0000e+00\n"
          ]
        },
        {
          "output_type": "execute_result",
          "data": {
            "text/plain": [
              "<keras.callbacks.History at 0x7fbe2243e4f0>"
            ]
          },
          "metadata": {},
          "execution_count": 6
        }
      ]
    },
    {
      "cell_type": "code",
      "source": [
        "# Load the image\n",
        "image_drive = cv2.imread(\"/content/Smart_systems_Eindoefening/Vraag2/Foto's_objecten/Train/Pen/IMG20230103150508.jpg\")\n",
        "image_drive = cv2.cvtColor(image_drive, cv2.COLOR_BGR2RGB)\n",
        "\n",
        "# Display the image\n",
        "plt.imshow(image_drive)\n",
        "plt.show()"
      ],
      "metadata": {
        "colab": {
          "base_uri": "https://localhost:8080/",
          "height": 269
        },
        "id": "6f0Tz5nsQ2T4",
        "outputId": "ea6d3543-1c6e-48e2-e7d3-121e9812793f"
      },
      "execution_count": 7,
      "outputs": [
        {
          "output_type": "display_data",
          "data": {
            "text/plain": [
              "<Figure size 432x288 with 1 Axes>"
            ],
            "image/png": "[encoded data removed]"
          },
          "metadata": {
            "needs_background": "light"
          }
        }
      ]
    },
    {
      "cell_type": "code",
      "source": [
        "def preprocess_image(image, grayscale=False, data_augmentation=False):\n",
        "  # Resize the image\n",
        "  image = cv2.resize(image, (224, 224))\n",
        "\n",
        "  # Convert the image to grayscale if needed\n",
        "  if grayscale:\n",
        "      image = cv2.cvtColor(image, cv2.COLOR_BGR2GRAY)\n",
        "      image = np.expand_dims(image, -1)\n",
        "\n",
        "  # Normalize the pixel values\n",
        "  image = image / 255.0\n",
        "\n",
        "  # If data augmentation is enabled, randomly apply some transformations\n",
        "  # if data_augmentation:\n",
        "  #     image = random_transform(image)\n",
        "\n",
        "  # Add an extra dimension to the image so that it has shape (1, height, width, channels)\n",
        "  image = np.expand_dims(image, 0)\n",
        "\n",
        "  return image"
      ],
      "metadata": {
        "id": "Gr3bLM0KPlnU"
      },
      "execution_count": 8,
      "outputs": []
    },
    {
      "cell_type": "code",
      "source": [
        "# Preprocess the image\n",
        "image = preprocess_image(image_drive)\n",
        "\n",
        "# Run the model and get the predictions\n",
        "predictions = model.predict(image)\n",
        "\n",
        "# Print\n",
        "if predictions > 0.7:\n",
        "  print(\"Het is een PSOC\")\n",
        "else:\n",
        "  print(\"Het is geen PSOC\")"
      ],
      "metadata": {
        "colab": {
          "base_uri": "https://localhost:8080/"
        },
        "id": "YpazsitCN8J-",
        "outputId": "fa14a199-45fb-4b41-dd7e-e0b42bc5f9a9"
      },
      "execution_count": 12,
      "outputs": [
        {
          "output_type": "stream",
          "name": "stdout",
          "text": [
            "1/1 [==============================] - 0s 27ms/step\n",
            "Het is een PSOC\n"
          ]
        }
      ]
    },
    {
      "cell_type": "code",
      "source": [
        "print(predictions)"
      ],
      "metadata": {
        "colab": {
          "base_uri": "https://localhost:8080/"
        },
        "id": "kLh3xRme4cyV",
        "outputId": "015c64de-d803-4182-aafc-4930c87511d6"
      },
      "execution_count": 13,
      "outputs": [
        {
          "output_type": "stream",
          "name": "stdout",
          "text": [
            "[[1.]]\n"
          ]
        }
      ]
    }
  ]
}