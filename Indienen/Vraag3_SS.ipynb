{
  "nbformat": 4,
  "nbformat_minor": 0,
  "metadata": {
    "colab": {
      "provenance": []
    },
    "kernelspec": {
      "name": "python3",
      "display_name": "Python 3"
    },
    "language_info": {
      "name": "python"
    }
  },
  "cells": [
    {
      "cell_type": "markdown",
      "source": [
        "# Vraag 3\n",
        "\n",
        "Maak een eigen dataset aan of gebruik een online dataset van een specifiek object. Bouw een AI model dat Anomalies kan detecteren (visueel; dus op foto's). Dit kan bijvoorbeeld gebruikt worden om defecteren in een object vast te stellen. Zorg ervoor dat dit model live gebruikt kan worden (gebruik je webcam,...)"
      ],
      "metadata": {
        "id": "5qGgTFT9BUz3"
      }
    },
    {
      "cell_type": "code",
      "source": [
        "import numpy as np\n",
        "import cv2\n",
        "from google.colab import drive\n",
        "import tensorflow as tf\n",
        "import matplotlib.pyplot as plt\n",
        "from tensorflow import keras\n",
        "from tensorflow.keras.models import Sequential\n",
        "from tensorflow.keras.preprocessing.image import ImageDataGenerator\n",
        "from tensorflow.keras.layers import Conv2D, MaxPooling2D, Flatten, Dense\n",
        "from sklearn import svm\n",
        "from sklearn.datasets import load_files\n",
        "from sklearn.preprocessing import StandardScaler"
      ],
      "metadata": {
        "id": "C8hRfRyd2e4L"
      },
      "execution_count": 2,
      "outputs": []
    },
    {
      "cell_type": "code",
      "source": [
        "! git clone https://github.com/GijsJackersPXL/Smart_systems_Eindoefening.git"
      ],
      "metadata": {
        "colab": {
          "base_uri": "https://localhost:8080/"
        },
        "id": "lZi3vYdolepA",
        "outputId": "f59c3aef-3510-414e-8790-9db88b886f04"
      },
      "execution_count": null,
      "outputs": [
        {
          "output_type": "stream",
          "name": "stdout",
          "text": [
            "fatal: destination path 'Smart_systems_Eindoefening' already exists and is not an empty directory.\n"
          ]
        }
      ]
    },
    {
      "cell_type": "code",
      "source": [
        "# Initialize ImageDataGenerator\n",
        "datagen = ImageDataGenerator(rescale=1./255, validation_split=0.2)\n",
        "\n",
        "# Load data from the directory\n",
        "data_dir = \"/content/Smart_systems_Eindoefening/Vraag3/Foto's_objecten/Train\""
      ],
      "metadata": {
        "id": "PGQbmABh2mMM",
        "outputId": "d7a99445-e31a-41a7-9840-4615731becc4",
        "colab": {
          "base_uri": "https://localhost:8080/",
          "height": 235
        }
      },
      "execution_count": 1,
      "outputs": [
        {
          "output_type": "error",
          "ename": "NameError",
          "evalue": "ignored",
          "traceback": [
            "\u001b[0;31m---------------------------------------------------------------------------\u001b[0m",
            "\u001b[0;31mNameError\u001b[0m                                 Traceback (most recent call last)",
            "\u001b[0;32m<ipython-input-1-a44184c080a8>\u001b[0m in \u001b[0;36m<module>\u001b[0;34m\u001b[0m\n\u001b[1;32m      1\u001b[0m \u001b[0;31m# Initialize ImageDataGenerator\u001b[0m\u001b[0;34m\u001b[0m\u001b[0;34m\u001b[0m\u001b[0;34m\u001b[0m\u001b[0m\n\u001b[0;32m----> 2\u001b[0;31m \u001b[0mdatagen\u001b[0m \u001b[0;34m=\u001b[0m \u001b[0mImageDataGenerator\u001b[0m\u001b[0;34m(\u001b[0m\u001b[0mrescale\u001b[0m\u001b[0;34m=\u001b[0m\u001b[0;36m1.\u001b[0m\u001b[0;34m/\u001b[0m\u001b[0;36m255\u001b[0m\u001b[0;34m,\u001b[0m \u001b[0mvalidation_split\u001b[0m\u001b[0;34m=\u001b[0m\u001b[0;36m0.2\u001b[0m\u001b[0;34m)\u001b[0m\u001b[0;34m\u001b[0m\u001b[0;34m\u001b[0m\u001b[0m\n\u001b[0m\u001b[1;32m      3\u001b[0m \u001b[0;34m\u001b[0m\u001b[0m\n\u001b[1;32m      4\u001b[0m \u001b[0;31m# Load data from the directory\u001b[0m\u001b[0;34m\u001b[0m\u001b[0;34m\u001b[0m\u001b[0;34m\u001b[0m\u001b[0m\n\u001b[1;32m      5\u001b[0m \u001b[0mdata_dir\u001b[0m \u001b[0;34m=\u001b[0m \u001b[0;34m\"/content/Smart_systems_Eindoefening/Vraag3/Foto's_objecten/Train\"\u001b[0m\u001b[0;34m\u001b[0m\u001b[0;34m\u001b[0m\u001b[0m\n",
            "\u001b[0;31mNameError\u001b[0m: name 'ImageDataGenerator' is not defined"
          ]
        }
      ]
    },
    {
      "cell_type": "code",
      "source": [
        "# Load data with flow_from_directory\n",
        "data_gen = datagen.flow_from_directory(data_dir,\n",
        "                                      target_size=(224, 224),\n",
        "                                      batch_size=10,\n",
        "                                      class_mode='binary',\n",
        "                                      shuffle=False)\n",
        "\n",
        "# Get number of classes\n",
        "num_classes = len(data_gen.class_indices)\n",
        "\n",
        "# Build model\n",
        "model = tf.keras.Sequential([\n",
        "    tf.keras.layers.Conv2D(32, (3, 3), activation='relu', input_shape=(224, 224, 3)),\n",
        "    tf.keras.layers.MaxPooling2D((2, 2)),\n",
        "    tf.keras.layers.Flatten(),\n",
        "    tf.keras.layers.Dense(num_classes, activation='softmax')\n",
        "])\n",
        "\n",
        "# Compile model\n",
        "model.compile(loss='binary_crossentropy',\n",
        "              optimizer='adam',\n",
        "              metrics=['accuracy'])\n",
        "\n",
        "# Fit model on the training data\n",
        "model.fit(data_gen)"
      ],
      "metadata": {
        "colab": {
          "base_uri": "https://localhost:8080/"
        },
        "id": "r43zJznR2o7f",
        "outputId": "59224e60-fa83-42fb-db78-c498e133bd85"
      },
      "execution_count": null,
      "outputs": [
        {
          "output_type": "stream",
          "name": "stdout",
          "text": [
            "Found 14 images belonging to 1 classes.\n",
            "2/2 [==============================] - 11s 3s/step - loss: 0.4236 - accuracy: 0.0000e+00\n"
          ]
        },
        {
          "output_type": "execute_result",
          "data": {
            "text/plain": [
              "<keras.callbacks.History at 0x7fe99a34c610>"
            ]
          },
          "metadata": {},
          "execution_count": 4
        }
      ]
    },
    {
      "cell_type": "markdown",
      "source": [
        "Bij class_mode gebruiken we binary omdat deze maar 1 object moet gebruiken."
      ],
      "metadata": {
        "id": "Y7H-tcrrPS3K"
      }
    },
    {
      "cell_type": "code",
      "source": [
        "# Load image\n",
        "\n",
        "# Enkele PCoC foto's\n",
        "#image = cv2.imread(\"/content/Smart_systems_Eindoefening/Vraag3/Foto's_objecten/Train/PSoC/IMG20230103150342.jpg\")\n",
        "#image = cv2.imread(\"/content/Smart_systems_Eindoefening/Vraag3/Foto's_objecten/Train/PSoC/IMG20230103150346.jpg\")\n",
        "#image = cv2.imread(\"/content/Smart_systems_Eindoefening/Vraag3/Foto's_objecten/Train/PSoC/IMG20230103150353.jpg\")\n",
        "#image = cv2.imread(\"/content/Smart_systems_Eindoefening/Vraag3/Foto's_objecten/Train/PSoC/IMG20230103150357.jpg\")\n",
        "#image = cv2.imread(\"/content/Smart_systems_Eindoefening/Vraag3/Foto's_objecten/Train/PSoC/IMG20230103150415.jpg\")\n",
        "\n",
        "# Enkele niet PCoC foto's\n",
        "#image = cv2.imread(\"/content/Smart_systems_Eindoefening/Vraag3/Foto's_objecten/Pen/IMG20230103150511.jpg\")\n",
        "image = cv2.imread(\"/content/Smart_systems_Eindoefening/Vraag3/Foto's_objecten/Pen/IMG20230103150514.jpg\")\n",
        "#image = cv2.imread(\"/content/Smart_systems_Eindoefening/Vraag3/Foto's_objecten/Pen/IMG20230103150551.jpg\")\n",
        "\n",
        "image = cv2.cvtColor(image, cv2.COLOR_BGR2RGB)\n",
        "\n",
        "# Display image\n",
        "plt.imshow(image)\n",
        "plt.axis('off')\n",
        "plt.show()"
      ],
      "metadata": {
        "colab": {
          "base_uri": "https://localhost:8080/",
          "height": 248
        },
        "id": "6f0Tz5nsQ2T4",
        "outputId": "e25d7c03-aa7a-4767-b3f0-76a7d272d209"
      },
      "execution_count": null,
      "outputs": [
        {
          "output_type": "display_data",
          "data": {
            "text/plain": [
              "<Figure size 432x288 with 1 Axes>"
            ],
            "image/png": "[encoded data removed]"
          },
          "metadata": {
            "needs_background": "light"
          }
        }
      ]
    },
    {
      "cell_type": "markdown",
      "source": [
        "Bij Load image staan enkele bestanden in commentaar zodat deze makkelijker te testen zijn. \n",
        "\n",
        "**Opgelet!** Er mag maar één *image = cv2.imread* niet in comment staan."
      ],
      "metadata": {
        "id": "1gX6KyX8RMbm"
      }
    },
    {
      "cell_type": "code",
      "source": [
        "def preprocess_image(image, grayscale=False, data_augmentation=False):\n",
        "  # Resize image\n",
        "  image = cv2.resize(image, (224, 224))\n",
        "\n",
        "  # Convert image to grayscale if needed\n",
        "  if grayscale:\n",
        "      image = cv2.cvtColor(image, cv2.COLOR_BGR2GRAY)\n",
        "      image = np.expand_dims(image, -1)\n",
        "\n",
        "  # Normalize pixel values\n",
        "  image = image / 255.0\n",
        "\n",
        "  # If data augmentation is enabled, randomly apply some transformations\n",
        "  if data_augmentation:\n",
        "      image = random_transform(image)\n",
        "\n",
        "  # Add an extra dimension to the image so that it has shape (1, height, width, channels)\n",
        "  image = np.expand_dims(image, 0)\n",
        "\n",
        "  return image"
      ],
      "metadata": {
        "id": "Gr3bLM0KPlnU"
      },
      "execution_count": null,
      "outputs": []
    },
    {
      "cell_type": "code",
      "source": [
        "# Preprocess image\n",
        "image = preprocess_image(image)\n",
        "\n",
        "# Run model and get the predictions\n",
        "predictions = model.predict(image)\n",
        "\n",
        "# Print\n",
        "if predictions > 0.7:\n",
        "  print(\"Het is een PSOC\")\n",
        "else:\n",
        "  print(\"Het is geen PSOC\")"
      ],
      "metadata": {
        "colab": {
          "base_uri": "https://localhost:8080/"
        },
        "id": "YpazsitCN8J-",
        "outputId": "2e4dcb43-d703-4529-fcd2-ffa05b7cbf4e"
      },
      "execution_count": null,
      "outputs": [
        {
          "output_type": "stream",
          "name": "stdout",
          "text": [
            "1/1 [==============================] - 0s 31ms/step\n",
            "Het is een PSOC\n"
          ]
        }
      ]
    },
    {
      "cell_type": "code",
      "source": [
        "print(predictions)"
      ],
      "metadata": {
        "colab": {
          "base_uri": "https://localhost:8080/"
        },
        "id": "kLh3xRme4cyV",
        "outputId": "3f19236f-6148-4725-f498-2368a508fcb3"
      },
      "execution_count": null,
      "outputs": [
        {
          "output_type": "stream",
          "name": "stdout",
          "text": [
            "[[1.]]\n"
          ]
        }
      ]
    }
  ]
}