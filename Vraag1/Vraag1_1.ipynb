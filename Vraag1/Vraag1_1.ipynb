{
  "nbformat": 4,
  "nbformat_minor": 0,
  "metadata": {
    "colab": {
      "provenance": []
    },
    "kernelspec": {
      "name": "python3",
      "display_name": "Python 3"
    },
    "language_info": {
      "name": "python"
    }
  },
  "cells": [
    {
      "cell_type": "markdown",
      "source": [
        "# Vraag 1 - Deel 1"
      ],
      "metadata": {
        "id": "UsKP74imdH0d"
      }
    },
    {
      "cell_type": "code",
      "execution_count": 27,
      "metadata": {
        "id": "A44YaF3Su_94"
      },
      "outputs": [],
      "source": [
        "import pandas as pd\n",
        "import matplotlib.pyplot as plt\n",
        "import xgboost as xgb\n",
        "from sklearn.model_selection import train_test_split\n",
        "import numpy as np"
      ]
    },
    {
      "cell_type": "code",
      "source": [
        "!wget https://raw.githubusercontent.com/GijsJackersPXL/Smart_systems_Eindoefening/main/Vraag1/imdb.csv"
      ],
      "metadata": {
        "colab": {
          "base_uri": "https://localhost:8080/"
        },
        "id": "lyfcAJlvKvPm",
        "outputId": "9a1a50bc-837f-484b-f8bf-4179cd123450"
      },
      "execution_count": 2,
      "outputs": [
        {
          "output_type": "stream",
          "name": "stdout",
          "text": [
            "--2023-01-05 09:20:18--  https://raw.githubusercontent.com/GijsJackersPXL/Smart_systems_Eindoefening/main/Vraag1/imdb.csv\n",
            "Resolving raw.githubusercontent.com (raw.githubusercontent.com)... 185.199.108.133, 185.199.109.133, 185.199.110.133, ...\n",
            "Connecting to raw.githubusercontent.com (raw.githubusercontent.com)|185.199.108.133|:443... connected.\n",
            "HTTP request sent, awaiting response... 200 OK\n",
            "Length: 69204 (68K) [text/plain]\n",
            "Saving to: ‘imdb.csv’\n",
            "\n",
            "\rimdb.csv              0%[                    ]       0  --.-KB/s               \rimdb.csv            100%[===================>]  67.58K  --.-KB/s    in 0.01s   \n",
            "\n",
            "2023-01-05 09:20:18 (5.63 MB/s) - ‘imdb.csv’ saved [69204/69204]\n",
            "\n"
          ]
        }
      ]
    },
    {
      "cell_type": "code",
      "source": [
        "data = pd.read_csv(\"/content/imdb.csv\", sep=',')\n",
        "df = pd.DataFrame(data)"
      ],
      "metadata": {
        "id": "Rm8N0zMbvm0v"
      },
      "execution_count": 261,
      "outputs": []
    },
    {
      "cell_type": "code",
      "source": [
        "df.head()"
      ],
      "metadata": {
        "colab": {
          "base_uri": "https://localhost:8080/",
          "height": 250
        },
        "id": "ubGdgWXGvxf4",
        "outputId": "b16c847d-e0ef-42a0-fd4e-516f07638d97"
      },
      "execution_count": 262,
      "outputs": [
        {
          "output_type": "execute_result",
          "data": {
            "text/plain": [
              "  Rank                                     Movie_name  Year Certificate  \\\n",
              "0    1                       The Shawshank Redemption  1994           R   \n",
              "1    2                                  The Godfather  1972           R   \n",
              "2    3                                The Dark Knight  2008       PG-13   \n",
              "3    4  The Lord of the Rings: The Return of the King  2003       PG-13   \n",
              "4    5                               Schindler's List  1993           R   \n",
              "\n",
              "   Runtime_in_min                      Genre  Metascore Gross_in_$_M  \\\n",
              "0             142                      Drama       81.0        28.34   \n",
              "1             175               Crime, Drama      100.0       134.97   \n",
              "2             152       Action, Crime, Drama       84.0       534.86   \n",
              "3             201   Action, Adventure, Drama       94.0       377.85   \n",
              "4             195  Biography, Drama, History       94.0        96.90   \n",
              "\n",
              "   Rating_from_10  \n",
              "0             9.3  \n",
              "1             9.2  \n",
              "2             9.0  \n",
              "3             9.0  \n",
              "4             9.0  "
            ],
            "text/html": [
              "\n",
              "  <div id=\"df-24b849c2-c649-4d06-9810-4dd5a72c046e\">\n",
              "    <div class=\"colab-df-container\">\n",
              "      <div>\n",
              "<style scoped>\n",
              "    .dataframe tbody tr th:only-of-type {\n",
              "        vertical-align: middle;\n",
              "    }\n",
              "\n",
              "    .dataframe tbody tr th {\n",
              "        vertical-align: top;\n",
              "    }\n",
              "\n",
              "    .dataframe thead th {\n",
              "        text-align: right;\n",
              "    }\n",
              "</style>\n",
              "<table border=\"1\" class=\"dataframe\">\n",
              "  <thead>\n",
              "    <tr style=\"text-align: right;\">\n",
              "      <th></th>\n",
              "      <th>Rank</th>\n",
              "      <th>Movie_name</th>\n",
              "      <th>Year</th>\n",
              "      <th>Certificate</th>\n",
              "      <th>Runtime_in_min</th>\n",
              "      <th>Genre</th>\n",
              "      <th>Metascore</th>\n",
              "      <th>Gross_in_$_M</th>\n",
              "      <th>Rating_from_10</th>\n",
              "    </tr>\n",
              "  </thead>\n",
              "  <tbody>\n",
              "    <tr>\n",
              "      <th>0</th>\n",
              "      <td>1</td>\n",
              "      <td>The Shawshank Redemption</td>\n",
              "      <td>1994</td>\n",
              "      <td>R</td>\n",
              "      <td>142</td>\n",
              "      <td>Drama</td>\n",
              "      <td>81.0</td>\n",
              "      <td>28.34</td>\n",
              "      <td>9.3</td>\n",
              "    </tr>\n",
              "    <tr>\n",
              "      <th>1</th>\n",
              "      <td>2</td>\n",
              "      <td>The Godfather</td>\n",
              "      <td>1972</td>\n",
              "      <td>R</td>\n",
              "      <td>175</td>\n",
              "      <td>Crime, Drama</td>\n",
              "      <td>100.0</td>\n",
              "      <td>134.97</td>\n",
              "      <td>9.2</td>\n",
              "    </tr>\n",
              "    <tr>\n",
              "      <th>2</th>\n",
              "      <td>3</td>\n",
              "      <td>The Dark Knight</td>\n",
              "      <td>2008</td>\n",
              "      <td>PG-13</td>\n",
              "      <td>152</td>\n",
              "      <td>Action, Crime, Drama</td>\n",
              "      <td>84.0</td>\n",
              "      <td>534.86</td>\n",
              "      <td>9.0</td>\n",
              "    </tr>\n",
              "    <tr>\n",
              "      <th>3</th>\n",
              "      <td>4</td>\n",
              "      <td>The Lord of the Rings: The Return of the King</td>\n",
              "      <td>2003</td>\n",
              "      <td>PG-13</td>\n",
              "      <td>201</td>\n",
              "      <td>Action, Adventure, Drama</td>\n",
              "      <td>94.0</td>\n",
              "      <td>377.85</td>\n",
              "      <td>9.0</td>\n",
              "    </tr>\n",
              "    <tr>\n",
              "      <th>4</th>\n",
              "      <td>5</td>\n",
              "      <td>Schindler's List</td>\n",
              "      <td>1993</td>\n",
              "      <td>R</td>\n",
              "      <td>195</td>\n",
              "      <td>Biography, Drama, History</td>\n",
              "      <td>94.0</td>\n",
              "      <td>96.90</td>\n",
              "      <td>9.0</td>\n",
              "    </tr>\n",
              "  </tbody>\n",
              "</table>\n",
              "</div>\n",
              "      <button class=\"colab-df-convert\" onclick=\"convertToInteractive('df-24b849c2-c649-4d06-9810-4dd5a72c046e')\"\n",
              "              title=\"Convert this dataframe to an interactive table.\"\n",
              "              style=\"display:none;\">\n",
              "        \n",
              "  <svg xmlns=\"http://www.w3.org/2000/svg\" height=\"24px\"viewBox=\"0 0 24 24\"\n",
              "       width=\"24px\">\n",
              "    <path d=\"M0 0h24v24H0V0z\" fill=\"none\"/>\n",
              "    <path d=\"M18.56 5.44l.94 2.06.94-2.06 2.06-.94-2.06-.94-.94-2.06-.94 2.06-2.06.94zm-11 1L8.5 8.5l.94-2.06 2.06-.94-2.06-.94L8.5 2.5l-.94 2.06-2.06.94zm10 10l.94 2.06.94-2.06 2.06-.94-2.06-.94-.94-2.06-.94 2.06-2.06.94z\"/><path d=\"M17.41 7.96l-1.37-1.37c-.4-.4-.92-.59-1.43-.59-.52 0-1.04.2-1.43.59L10.3 9.45l-7.72 7.72c-.78.78-.78 2.05 0 2.83L4 21.41c.39.39.9.59 1.41.59.51 0 1.02-.2 1.41-.59l7.78-7.78 2.81-2.81c.8-.78.8-2.07 0-2.86zM5.41 20L4 18.59l7.72-7.72 1.47 1.35L5.41 20z\"/>\n",
              "  </svg>\n",
              "      </button>\n",
              "      \n",
              "  <style>\n",
              "    .colab-df-container {\n",
              "      display:flex;\n",
              "      flex-wrap:wrap;\n",
              "      gap: 12px;\n",
              "    }\n",
              "\n",
              "    .colab-df-convert {\n",
              "      background-color: #E8F0FE;\n",
              "      border: none;\n",
              "      border-radius: 50%;\n",
              "      cursor: pointer;\n",
              "      display: none;\n",
              "      fill: #1967D2;\n",
              "      height: 32px;\n",
              "      padding: 0 0 0 0;\n",
              "      width: 32px;\n",
              "    }\n",
              "\n",
              "    .colab-df-convert:hover {\n",
              "      background-color: #E2EBFA;\n",
              "      box-shadow: 0px 1px 2px rgba(60, 64, 67, 0.3), 0px 1px 3px 1px rgba(60, 64, 67, 0.15);\n",
              "      fill: #174EA6;\n",
              "    }\n",
              "\n",
              "    [theme=dark] .colab-df-convert {\n",
              "      background-color: #3B4455;\n",
              "      fill: #D2E3FC;\n",
              "    }\n",
              "\n",
              "    [theme=dark] .colab-df-convert:hover {\n",
              "      background-color: #434B5C;\n",
              "      box-shadow: 0px 1px 3px 1px rgba(0, 0, 0, 0.15);\n",
              "      filter: drop-shadow(0px 1px 2px rgba(0, 0, 0, 0.3));\n",
              "      fill: #FFFFFF;\n",
              "    }\n",
              "  </style>\n",
              "\n",
              "      <script>\n",
              "        const buttonEl =\n",
              "          document.querySelector('#df-24b849c2-c649-4d06-9810-4dd5a72c046e button.colab-df-convert');\n",
              "        buttonEl.style.display =\n",
              "          google.colab.kernel.accessAllowed ? 'block' : 'none';\n",
              "\n",
              "        async function convertToInteractive(key) {\n",
              "          const element = document.querySelector('#df-24b849c2-c649-4d06-9810-4dd5a72c046e');\n",
              "          const dataTable =\n",
              "            await google.colab.kernel.invokeFunction('convertToInteractive',\n",
              "                                                     [key], {});\n",
              "          if (!dataTable) return;\n",
              "\n",
              "          const docLinkHtml = 'Like what you see? Visit the ' +\n",
              "            '<a target=\"_blank\" href=https://colab.research.google.com/notebooks/data_table.ipynb>data table notebook</a>'\n",
              "            + ' to learn more about interactive tables.';\n",
              "          element.innerHTML = '';\n",
              "          dataTable['output_type'] = 'display_data';\n",
              "          await google.colab.output.renderOutput(dataTable, element);\n",
              "          const docLink = document.createElement('div');\n",
              "          docLink.innerHTML = docLinkHtml;\n",
              "          element.appendChild(docLink);\n",
              "        }\n",
              "      </script>\n",
              "    </div>\n",
              "  </div>\n",
              "  "
            ]
          },
          "metadata": {},
          "execution_count": 262
        }
      ]
    },
    {
      "cell_type": "code",
      "source": [
        "df.isnull().sum()"
      ],
      "metadata": {
        "colab": {
          "base_uri": "https://localhost:8080/"
        },
        "id": "dc-tSp8M3ZAg",
        "outputId": "ff3ec6b2-884e-4553-e6a4-31ee83ebd97f"
      },
      "execution_count": 263,
      "outputs": [
        {
          "output_type": "execute_result",
          "data": {
            "text/plain": [
              "Rank                0\n",
              "Movie_name          0\n",
              "Year                0\n",
              "Certificate         7\n",
              "Runtime_in_min      0\n",
              "Genre               0\n",
              "Metascore         160\n",
              "Gross_in_$_M      159\n",
              "Rating_from_10      0\n",
              "dtype: int64"
            ]
          },
          "metadata": {},
          "execution_count": 263
        }
      ]
    },
    {
      "cell_type": "code",
      "source": [
        "df.dropna(inplace=True)"
      ],
      "metadata": {
        "id": "NEWbn1pPX4qH"
      },
      "execution_count": 264,
      "outputs": []
    },
    {
      "cell_type": "code",
      "source": [
        "df.isnull().sum()"
      ],
      "metadata": {
        "colab": {
          "base_uri": "https://localhost:8080/"
        },
        "id": "wMj68A6aX5pi",
        "outputId": "bbcdb4fc-ff37-4320-a1ca-1e0298fe407b"
      },
      "execution_count": 265,
      "outputs": [
        {
          "output_type": "execute_result",
          "data": {
            "text/plain": [
              "Rank              0\n",
              "Movie_name        0\n",
              "Year              0\n",
              "Certificate       0\n",
              "Runtime_in_min    0\n",
              "Genre             0\n",
              "Metascore         0\n",
              "Gross_in_$_M      0\n",
              "Rating_from_10    0\n",
              "dtype: int64"
            ]
          },
          "metadata": {},
          "execution_count": 265
        }
      ]
    },
    {
      "cell_type": "code",
      "source": [
        "df.shape"
      ],
      "metadata": {
        "colab": {
          "base_uri": "https://localhost:8080/"
        },
        "id": "BhYkx98qMCSK",
        "outputId": "ae6b77df-1af7-4fdc-a888-e9c1324d4831"
      },
      "execution_count": 266,
      "outputs": [
        {
          "output_type": "execute_result",
          "data": {
            "text/plain": [
              "(755, 9)"
            ]
          },
          "metadata": {},
          "execution_count": 266
        }
      ]
    },
    {
      "cell_type": "code",
      "source": [
        "df[\"Year\"] = pd.to_numeric(df[\"Year\"], errors=\"coerce\")"
      ],
      "metadata": {
        "id": "irI6KbcOaKRk"
      },
      "execution_count": 267,
      "outputs": []
    },
    {
      "cell_type": "code",
      "source": [
        "df[\"Gross_in_$_M\"] = pd.to_numeric(df[\"Gross_in_$_M\"], errors=\"coerce\")"
      ],
      "metadata": {
        "id": "_CGiIxXmsGL0"
      },
      "execution_count": 268,
      "outputs": []
    },
    {
      "cell_type": "code",
      "source": [
        "df.dropna(inplace=True)"
      ],
      "metadata": {
        "id": "Skvcf-JKbXPS"
      },
      "execution_count": 269,
      "outputs": []
    },
    {
      "cell_type": "code",
      "source": [
        "Movie_name_data = df[\"Movie_name\"]"
      ],
      "metadata": {
        "id": "b_POi9ZeZsuZ"
      },
      "execution_count": 270,
      "outputs": []
    },
    {
      "cell_type": "code",
      "source": [
        "df = df.drop([\"Rank\", \"Movie_name\", \"Genre\", \"Certificate\"], axis=1)"
      ],
      "metadata": {
        "id": "tmH9G2IOvz18"
      },
      "execution_count": 271,
      "outputs": []
    },
    {
      "cell_type": "code",
      "source": [
        "X = df.drop('Rating_from_10', axis=1)\n",
        "y = df['Rating_from_10']"
      ],
      "metadata": {
        "id": "x9Y-ZLLMwCQU"
      },
      "execution_count": 272,
      "outputs": []
    },
    {
      "cell_type": "code",
      "source": [
        "X_train, X_test, y_train, y_test = train_test_split(X, y, test_size=0.2)"
      ],
      "metadata": {
        "id": "O7UVir5nwtps"
      },
      "execution_count": 273,
      "outputs": []
    },
    {
      "cell_type": "code",
      "source": [
        "print(X_train.dtypes)"
      ],
      "metadata": {
        "colab": {
          "base_uri": "https://localhost:8080/"
        },
        "id": "-GR2kwrELNjO",
        "outputId": "11b389cb-23c2-48cf-baf0-c5e965af082c"
      },
      "execution_count": 274,
      "outputs": [
        {
          "output_type": "stream",
          "name": "stdout",
          "text": [
            "Year              float64\n",
            "Runtime_in_min      int64\n",
            "Metascore         float64\n",
            "Gross_in_$_M      float64\n",
            "dtype: object\n"
          ]
        }
      ]
    },
    {
      "cell_type": "code",
      "source": [
        "D_train = xgb.DMatrix(X_train, label=y_train)\n",
        "D_test = xgb.DMatrix(X_test, label=y_test)"
      ],
      "metadata": {
        "id": "2c7-r1niw0qA"
      },
      "execution_count": 275,
      "outputs": []
    },
    {
      "cell_type": "code",
      "source": [
        "nc = len(np.unique(y_train))"
      ],
      "metadata": {
        "id": "eXMHinYLtoLC"
      },
      "execution_count": 276,
      "outputs": []
    },
    {
      "cell_type": "code",
      "source": [
        "param = {\n",
        "    'eta': 1,\n",
        "    'max_depth': 50,\n",
        "    'objective': 'multi:softprob',\n",
        "    'num_class': nc}\n",
        "steps = 50"
      ],
      "metadata": {
        "id": "aiIXZc3_sOJ3"
      },
      "execution_count": 277,
      "outputs": []
    },
    {
      "cell_type": "code",
      "source": [
        "model = xgb.train(param, D_train, steps)"
      ],
      "metadata": {
        "id": "bvGUVF5asPc7"
      },
      "execution_count": 278,
      "outputs": []
    },
    {
      "cell_type": "code",
      "source": [
        "from sklearn.metrics import precision_score, recall_score, accuracy_score"
      ],
      "metadata": {
        "id": "eKIf3JBzvdCu"
      },
      "execution_count": 279,
      "outputs": []
    },
    {
      "cell_type": "code",
      "source": [
        "# Use the trained model to make predictions\n",
        "predictions = model.predict(D_test)\n",
        "\n",
        "# Plot the feature importance\n",
        "xgb.plot_importance(model)\n",
        "\n",
        "# Plot the decision tree structure\n",
        "xgb.plot_tree(model)\n",
        "\n",
        "print(predictions)"
      ],
      "metadata": {
        "colab": {
          "base_uri": "https://localhost:8080/",
          "height": 516
        },
        "id": "OmatoeNvujjL",
        "outputId": "ce778de4-1494-411c-d561-d3a8817e437c"
      },
      "execution_count": 280,
      "outputs": [
        {
          "output_type": "stream",
          "name": "stdout",
          "text": [
            "[[0.03421746 0.03421746 0.03421746 ... 0.03421746 0.03421746 0.03421746]\n",
            " [0.05375046 0.05375046 0.05375046 ... 0.05375046 0.05375046 0.05375046]\n",
            " [0.03839613 0.03839613 0.03839613 ... 0.03839613 0.03839613 0.03839613]\n",
            " ...\n",
            " [0.02222668 0.02222668 0.02222668 ... 0.02222668 0.02222668 0.02222668]\n",
            " [0.04272491 0.04272491 0.04272491 ... 0.04272491 0.04272491 0.04272491]\n",
            " [0.05738847 0.05738847 0.05738847 ... 0.05738847 0.05738847 0.05738847]]\n"
          ]
        },
        {
          "output_type": "display_data",
          "data": {
            "text/plain": [
              "<Figure size 432x288 with 1 Axes>"
            ],
            "image/png": "[encoded data removed]"
          },
          "metadata": {
            "needs_background": "light"
          }
        },
        {
          "output_type": "display_data",
          "data": {
            "text/plain": [
              "<Figure size 432x288 with 1 Axes>"
            ],
            "image/png": "[encoded data removed]"
          },
          "metadata": {
            "needs_background": "light"
          }
        }
      ]
    },
    {
      "cell_type": "code",
      "source": [
        "array = []\n",
        "for i in y:\n",
        "    array.append(i)"
      ],
      "metadata": {
        "id": "AkbUUExUx-2k"
      },
      "execution_count": 281,
      "outputs": []
    },
    {
      "cell_type": "code",
      "source": [
        "print(array)"
      ],
      "metadata": {
        "colab": {
          "base_uri": "https://localhost:8080/"
        },
        "id": "VnS8l2GM3pGv",
        "outputId": "9b590cc4-2c7f-4b50-ddaa-fdad95465f16"
      },
      "execution_count": 282,
      "outputs": [
        {
          "output_type": "stream",
          "name": "stdout",
          "text": [
            "[9.3, 9.2, 9.0, 9.0, 9.0, 9.0, 9.0, 8.9, 8.8, 8.8, 8.8, 8.8, 8.8, 8.8, 8.7, 8.7, 8.7, 8.7, 8.6, 8.6, 8.6, 8.6, 8.6, 8.6, 8.6, 8.6, 8.6, 8.6, 8.6, 8.5, 8.5, 8.5, 8.5, 8.5, 8.5, 8.5, 8.5, 8.5, 8.5, 8.5, 8.5, 8.5, 8.5, 8.5, 8.5, 8.5, 8.5, 8.5, 8.5, 8.5, 8.4, 8.4, 8.4, 8.4, 8.4, 8.4, 8.4, 8.4, 8.4, 8.4, 8.4, 8.4, 8.4, 8.4, 8.4, 8.4, 8.4, 8.4, 8.4, 8.4, 8.4, 8.4, 8.3, 8.3, 8.3, 8.3, 8.3, 8.3, 8.3, 8.3, 8.3, 8.3, 8.3, 8.3, 8.3, 8.3, 8.3, 8.3, 8.3, 8.3, 8.3, 8.3, 8.3, 8.3, 8.3, 8.3, 8.3, 8.3, 8.3, 8.3, 8.3, 8.2, 8.2, 8.2, 8.2, 8.2, 8.2, 8.2, 8.2, 8.2, 8.2, 8.2, 8.2, 8.2, 8.2, 8.2, 8.2, 8.2, 8.2, 8.2, 8.2, 8.2, 8.2, 8.2, 8.2, 8.2, 8.2, 8.2, 8.2, 8.2, 8.2, 8.2, 8.2, 8.2, 8.2, 8.2, 8.2, 8.2, 8.2, 8.2, 8.2, 8.2, 8.2, 8.2, 8.2, 8.2, 8.2, 8.1, 8.1, 8.1, 8.1, 8.1, 8.1, 8.1, 8.1, 8.1, 8.1, 8.1, 8.1, 8.1, 8.1, 8.1, 8.1, 8.1, 8.1, 8.1, 8.1, 8.1, 8.1, 8.1, 8.1, 8.1, 8.1, 8.1, 8.1, 8.1, 8.1, 8.1, 8.1, 8.1, 8.1, 8.1, 8.1, 8.1, 8.1, 8.1, 8.1, 8.1, 8.1, 8.1, 8.1, 8.1, 8.1, 8.1, 8.1, 8.1, 8.1, 8.1, 8.1, 8.1, 8.1, 8.1, 8.1, 8.1, 8.1, 8.1, 8.1, 8.1, 8.1, 8.1, 8.1, 8.1, 8.1, 8.1, 8.1, 8.1, 8.1, 8.1, 8.1, 8.0, 8.0, 8.0, 8.0, 8.0, 8.0, 8.0, 8.0, 8.0, 8.0, 8.0, 8.0, 8.0, 8.0, 8.0, 8.0, 8.0, 8.0, 8.0, 8.0, 8.0, 8.0, 8.0, 8.0, 8.0, 8.0, 8.0, 8.0, 8.0, 8.0, 8.0, 8.0, 8.0, 8.0, 8.0, 8.0, 8.0, 8.0, 8.0, 8.0, 8.0, 8.0, 8.0, 8.0, 8.0, 8.0, 8.0, 8.0, 8.0, 8.0, 8.0, 8.0, 8.0, 8.0, 8.0, 8.0, 8.0, 8.0, 8.0, 8.0, 8.0, 8.0, 8.0, 8.0, 8.0, 8.0, 8.0, 8.0, 8.0, 8.0, 8.0, 8.0, 8.0, 8.0, 8.0, 8.0, 8.0, 8.0, 8.0, 8.0, 8.0, 8.0, 8.0, 7.9, 7.9, 7.9, 7.9, 7.9, 7.9, 7.9, 7.9, 7.9, 7.9, 7.9, 7.9, 7.9, 7.9, 7.9, 7.9, 7.9, 7.9, 7.9, 7.9, 7.9, 7.9, 7.9, 7.9, 7.9, 7.9, 7.9, 7.9, 7.9, 7.9, 7.9, 7.9, 7.9, 7.9, 7.9, 7.9, 7.9, 7.9, 7.9, 7.9, 7.9, 7.9, 7.9, 7.9, 7.9, 7.9, 7.9, 7.9, 7.9, 7.9, 7.9, 7.9, 7.9, 7.9, 7.9, 7.9, 7.9, 7.9, 7.9, 7.9, 7.9, 7.9, 7.9, 7.9, 7.9, 7.9, 7.9, 7.9, 7.9, 7.9, 7.9, 7.9, 7.9, 7.9, 7.9, 7.9, 7.9, 7.9, 7.9, 7.9, 7.9, 7.9, 7.9, 7.9, 7.9, 7.9, 7.9, 7.9, 7.8, 7.8, 7.8, 7.8, 7.8, 7.8, 7.8, 7.8, 7.8, 7.8, 7.8, 7.8, 7.8, 7.8, 7.8, 7.8, 7.8, 7.8, 7.8, 7.8, 7.8, 7.8, 7.8, 7.8, 7.8, 7.8, 7.8, 7.8, 7.8, 7.8, 7.8, 7.8, 7.8, 7.8, 7.8, 7.8, 7.8, 7.8, 7.8, 7.8, 7.8, 7.8, 7.8, 7.8, 7.8, 7.8, 7.8, 7.8, 7.8, 7.8, 7.8, 7.8, 7.8, 7.8, 7.8, 7.8, 7.8, 7.8, 7.8, 7.8, 7.8, 7.8, 7.8, 7.8, 7.8, 7.8, 7.8, 7.8, 7.8, 7.8, 7.8, 7.8, 7.8, 7.8, 7.8, 7.8, 7.8, 7.8, 7.8, 7.8, 7.8, 7.8, 7.8, 7.8, 7.8, 7.8, 7.8, 7.8, 7.8, 7.8, 7.8, 7.8, 7.8, 7.8, 7.8, 7.8, 7.8, 7.8, 7.8, 7.8, 7.8, 7.8, 7.8, 7.8, 7.8, 7.8, 7.8, 7.8, 7.8, 7.8, 7.8, 7.8, 7.7, 7.7, 7.7, 7.7, 7.7, 7.7, 7.7, 7.7, 7.7, 7.7, 7.7, 7.7, 7.7, 7.7, 7.7, 7.7, 7.7, 7.7, 7.7, 7.7, 7.7, 7.7, 7.7, 7.7, 7.7, 7.7, 7.7, 7.7, 7.7, 7.7, 7.7, 7.7, 7.7, 7.7, 7.7, 7.7, 7.7, 7.7, 7.7, 7.7, 7.7, 7.7, 7.7, 7.7, 7.7, 7.7, 7.7, 7.7, 7.7, 7.7, 7.7, 7.7, 7.7, 7.7, 7.7, 7.7, 7.7, 7.7, 7.7, 7.7, 7.7, 7.7, 7.7, 7.7, 7.7, 7.7, 7.7, 7.7, 7.7, 7.7, 7.7, 7.7, 7.7, 7.7, 7.7, 7.7, 7.7, 7.7, 7.7, 7.7, 7.7, 7.7, 7.7, 7.7, 7.7, 7.7, 7.7, 7.7, 7.7, 7.7, 7.7, 7.7, 7.7, 7.7, 7.7, 7.7, 7.7, 7.7, 7.7, 7.7, 7.7, 7.7, 7.7, 7.7, 7.7, 7.7, 7.7, 7.7, 7.7, 7.7, 7.7, 7.7, 7.7, 7.7, 7.7, 7.7, 7.7, 7.7, 7.7, 7.7, 7.7, 7.7, 7.7, 7.7, 7.7, 7.7, 7.7, 7.7, 7.7, 7.7, 7.7, 7.7, 7.7, 7.7, 7.7, 7.7, 7.6, 7.6, 7.6, 7.6, 7.6, 7.6, 7.6, 7.6, 7.6, 7.6, 7.6, 7.6, 7.6, 7.6, 7.6, 7.6, 7.6, 7.6, 7.6, 7.6, 7.6, 7.6, 7.6, 7.6, 7.6, 7.6, 7.6, 7.6, 7.6, 7.6, 7.6, 7.6, 7.6, 7.6, 7.6, 7.6, 7.6, 7.6, 7.6, 7.6, 7.6, 7.6, 7.6, 7.6, 7.6, 7.6, 7.6, 7.6, 7.6, 7.6, 7.6, 7.6, 7.6, 7.6, 7.6, 7.6, 7.6, 7.6, 7.6, 7.6, 7.6, 7.6, 7.6, 7.6, 7.6, 7.6, 7.6, 7.6, 7.6]\n"
          ]
        }
      ]
    },
    {
      "cell_type": "code",
      "source": [
        "print(predictions)"
      ],
      "metadata": {
        "colab": {
          "base_uri": "https://localhost:8080/"
        },
        "id": "KLyy1kxYyEWZ",
        "outputId": "99d1254f-3ebb-4ff3-e9c1-5629694fe356"
      },
      "execution_count": 283,
      "outputs": [
        {
          "output_type": "stream",
          "name": "stdout",
          "text": [
            "[[0.03421746 0.03421746 0.03421746 ... 0.03421746 0.03421746 0.03421746]\n",
            " [0.05375046 0.05375046 0.05375046 ... 0.05375046 0.05375046 0.05375046]\n",
            " [0.03839613 0.03839613 0.03839613 ... 0.03839613 0.03839613 0.03839613]\n",
            " ...\n",
            " [0.02222668 0.02222668 0.02222668 ... 0.02222668 0.02222668 0.02222668]\n",
            " [0.04272491 0.04272491 0.04272491 ... 0.04272491 0.04272491 0.04272491]\n",
            " [0.05738847 0.05738847 0.05738847 ... 0.05738847 0.05738847 0.05738847]]\n"
          ]
        }
      ]
    },
    {
      "cell_type": "code",
      "source": [
        "df = pd.concat([df.insert(0, \"Movie_name\", Movie_name_data), df], axis=1)"
      ],
      "metadata": {
        "id": "7ZeHNQ3TYYpz"
      },
      "execution_count": 284,
      "outputs": []
    },
    {
      "cell_type": "code",
      "source": [
        "counter = 0\n",
        "for i in range(len(predictions)):\n",
        "    if predictions[i][1] < 0.02:\n",
        "        print('Anomaly detected:', array[i], 'prediction is: ', predictions[i][1])\n",
        "        print(df.iloc[i].to_string())"
      ],
      "metadata": {
        "colab": {
          "base_uri": "https://localhost:8080/"
        },
        "id": "FnQa5uqf3gAd",
        "outputId": "dbe1f4a9-1828-41c6-ff62-35d8a53181ef"
      },
      "execution_count": 285,
      "outputs": [
        {
          "output_type": "stream",
          "name": "stdout",
          "text": [
            "Anomaly detected: 8.8 prediction is:  0.01755093\n",
            "Movie_name        The Lord of the Rings: The Two Towers\n",
            "Year                                             2002.0\n",
            "Runtime_in_min                                      179\n",
            "Metascore                                          87.0\n",
            "Gross_in_$_M                                     342.55\n",
            "Rating_from_10                                      8.8\n",
            "Anomaly detected: 8.4 prediction is:  0.007991349\n",
            "Movie_name        Capernaum\n",
            "Year                 2018.0\n",
            "Runtime_in_min          126\n",
            "Metascore              75.0\n",
            "Gross_in_$_M           1.66\n",
            "Rating_from_10          8.4\n",
            "Anomaly detected: 8.4 prediction is:  0.013671698\n",
            "Movie_name        WALL·E\n",
            "Year              2008.0\n",
            "Runtime_in_min        98\n",
            "Metascore           95.0\n",
            "Gross_in_$_M      223.81\n",
            "Rating_from_10       8.4\n",
            "Anomaly detected: 8.3 prediction is:  0.011550573\n",
            "Movie_name        Full Metal Jacket\n",
            "Year                         1987.0\n",
            "Runtime_in_min                  116\n",
            "Metascore                      76.0\n",
            "Gross_in_$_M                  46.36\n",
            "Rating_from_10                  8.3\n",
            "Anomaly detected: 8.2 prediction is:  0.017622368\n",
            "Movie_name          1917\n",
            "Year              2019.0\n",
            "Runtime_in_min       119\n",
            "Metascore           78.0\n",
            "Gross_in_$_M      159.23\n",
            "Rating_from_10       8.2\n",
            "Anomaly detected: 8.2 prediction is:  0.017621454\n",
            "Movie_name        Shutter Island\n",
            "Year                      2010.0\n",
            "Runtime_in_min               138\n",
            "Metascore                   63.0\n",
            "Gross_in_$_M              128.01\n",
            "Rating_from_10               8.2\n",
            "Anomaly detected: 8.2 prediction is:  0.018195642\n",
            "Movie_name        V for Vendetta\n",
            "Year                      2005.0\n",
            "Runtime_in_min               132\n",
            "Metascore                   62.0\n",
            "Gross_in_$_M               70.51\n",
            "Rating_from_10               8.2\n",
            "Anomaly detected: 8.2 prediction is:  0.010082477\n",
            "Movie_name        Taxi Driver\n",
            "Year                   1976.0\n",
            "Runtime_in_min            114\n",
            "Metascore                94.0\n",
            "Gross_in_$_M            28.26\n",
            "Rating_from_10            8.2\n",
            "Anomaly detected: 8.2 prediction is:  0.014406792\n",
            "Movie_name        Chinatown\n",
            "Year                 1974.0\n",
            "Runtime_in_min          130\n",
            "Metascore              92.0\n",
            "Gross_in_$_M           8.49\n",
            "Rating_from_10          8.2\n",
            "Anomaly detected: 8.2 prediction is:  0.00870182\n",
            "Movie_name        The Great Escape\n",
            "Year                        1963.0\n",
            "Runtime_in_min                 172\n",
            "Metascore                     86.0\n",
            "Gross_in_$_M                  12.1\n",
            "Rating_from_10                 8.2\n"
          ]
        }
      ]
    }
  ]
}