{
  "nbformat": 4,
  "nbformat_minor": 0,
  "metadata": {
    "colab": {
      "provenance": [],
      "mount_file_id": "1XnVhPdZtAQQXYkpCWNgaTSs4nNdgILio",
      "authorship_tag": "ABX9TyNNwWanuiE7AI181FfRwYrv",
      "include_colab_link": true
    },
    "kernelspec": {
      "name": "python3",
      "display_name": "Python 3"
    },
    "language_info": {
      "name": "python"
    }
  },
  "cells": [
    {
      "cell_type": "markdown",
      "metadata": {
        "id": "view-in-github",
        "colab_type": "text"
      },
      "source": [
        "<a href=\"https://colab.research.google.com/github/GijsJackersPXL/Smart_systems_Eindoefening/blob/main/Vraag2_SS.ipynb\" target=\"_parent\"><img src=\"https://colab.research.google.com/assets/colab-badge.svg\" alt=\"Open In Colab\"/></a>"
      ]
    },
    {
      "cell_type": "code",
      "source": [
        "import numpy as np\n",
        "from google.colab import drive\n",
        "import tensorflow as tf\n",
        "import matplotlib.pyplot as plt\n",
        "from tensorflow import keras\n",
        "from tensorflow.keras.models import Sequential\n",
        "from tensorflow.keras.preprocessing.image import ImageDataGenerator\n",
        "from tensorflow.keras.layers import Conv2D, MaxPooling2D, Flatten, Dense"
      ],
      "metadata": {
        "id": "k19dZ3fH3DTN"
      },
      "execution_count": 60,
      "outputs": []
    },
    {
      "cell_type": "code",
      "source": [
        "# Directory to dataset in drive\n",
        "drive.mount('/content/gdrive', force_remount=True)"
      ],
      "metadata": {
        "colab": {
          "base_uri": "https://localhost:8080/"
        },
        "id": "jSijFTHD69ba",
        "outputId": "e9d32a01-fc22-4cff-ef08-ee7da1e28956"
      },
      "execution_count": 39,
      "outputs": [
        {
          "output_type": "stream",
          "name": "stdout",
          "text": [
            "Mounted at /content/gdrive\n"
          ]
        }
      ]
    },
    {
      "cell_type": "code",
      "source": [
        "# Initialize the ImageDataGenerator\n",
        "datagen = ImageDataGenerator(rescale=1./255, validation_split=0.2)\n",
        "\n",
        "# Load the data from the directory on Google Drive\n",
        "data_dir = '/content/gdrive/MyDrive/Colab_Notebooks/DataSet/Train'"
      ],
      "metadata": {
        "id": "98c2VDIvQVgM"
      },
      "execution_count": 61,
      "outputs": []
    },
    {
      "cell_type": "code",
      "source": [
        "# Use the flow_from_directory method to load the data\n",
        "data_gen = datagen.flow_from_directory(data_dir,\n",
        "                                      target_size=(224, 224),\n",
        "                                      batch_size=32,\n",
        "                                      class_mode='categorical',\n",
        "                                      shuffle=True)\n",
        "\n",
        "# Get the number of classes\n",
        "num_classes = len(data_gen.class_indices)\n",
        "\n",
        "# Build the model\n",
        "model = Sequential()\n",
        "model.add(Conv2D(32, (3, 3), activation='relu', input_shape=(224, 224, 3)))\n",
        "model.add(MaxPooling2D((2, 2)))\n",
        "model.add(Flatten())\n",
        "model.add(Dense(num_classes, activation='softmax'))\n",
        "\n",
        "# Compile the model\n",
        "model.compile(loss='categorical_crossentropy',\n",
        "              optimizer='adam',\n",
        "              metrics=['accuracy'])"
      ],
      "metadata": {
        "colab": {
          "base_uri": "https://localhost:8080/"
        },
        "id": "m5iaClruMj0D",
        "outputId": "317d66ef-36a5-4440-d750-4c01f430c4da"
      },
      "execution_count": 64,
      "outputs": [
        {
          "output_type": "stream",
          "name": "stdout",
          "text": [
            "Found 66 images belonging to 6 classes.\n"
          ]
        }
      ]
    },
    {
      "cell_type": "code",
      "source": [
        "# Fit the model using the generator\n",
        "history = model.fit(data_gen,\n",
        "                    steps_per_epoch=len(data_gen),\n",
        "                    epochs=10,)"
      ],
      "metadata": {
        "colab": {
          "base_uri": "https://localhost:8080/"
        },
        "id": "2zLAlbFkNpgm",
        "outputId": "f3e3a25e-c3ea-4732-b7df-b8277f491c20"
      },
      "execution_count": 65,
      "outputs": [
        {
          "output_type": "stream",
          "name": "stdout",
          "text": [
            "Epoch 1/10\n",
            "3/3 [==============================] - 52s 14s/step - loss: 13.6061 - accuracy: 0.2576\n",
            "Epoch 2/10\n",
            "3/3 [==============================] - 48s 13s/step - loss: 16.7217 - accuracy: 0.2879\n",
            "Epoch 3/10\n",
            "3/3 [==============================] - 47s 12s/step - loss: 14.3375 - accuracy: 0.2727\n",
            "Epoch 4/10\n",
            "3/3 [==============================] - 47s 12s/step - loss: 11.1021 - accuracy: 0.2273\n",
            "Epoch 5/10\n",
            "3/3 [==============================] - 50s 24s/step - loss: 5.0814 - accuracy: 0.5455\n",
            "Epoch 6/10\n",
            "3/3 [==============================] - 47s 23s/step - loss: 2.8255 - accuracy: 0.5758\n",
            "Epoch 7/10\n",
            "3/3 [==============================] - 47s 12s/step - loss: 1.0448 - accuracy: 0.6970\n",
            "Epoch 8/10\n",
            "3/3 [==============================] - 46s 12s/step - loss: 0.5374 - accuracy: 0.7879\n",
            "Epoch 9/10\n",
            "3/3 [==============================] - 48s 23s/step - loss: 0.2465 - accuracy: 0.9091\n",
            "Epoch 10/10\n",
            "3/3 [==============================] - 47s 12s/step - loss: 0.1622 - accuracy: 0.9697\n"
          ]
        }
      ]
    },
    {
      "cell_type": "code",
      "source": [
        "# Save the model\n",
        "model.save('/content/gdrive/MyDrive/Colab_Notebooks/DataSet/model.h5')"
      ],
      "metadata": {
        "id": "zg5rlidvNp2G"
      },
      "execution_count": 69,
      "outputs": []
    },
    {
      "cell_type": "code",
      "source": [],
      "metadata": {
        "id": "fMVRwuyVNqRa"
      },
      "execution_count": null,
      "outputs": []
    }
  ]
}